{
 "cells": [
  {
   "cell_type": "code",
   "execution_count": 1300,
   "id": "af25555c",
   "metadata": {
    "scrolled": false
   },
   "outputs": [
    {
     "name": "stdout",
     "output_type": "stream",
     "text": [
      "        Unnamed: 0  uplink_id  owner_id          client_time  tag_id   step  \\\n",
      "217134      217134    2340211       669  2020-12-02 19:50:13     0.0   4345   \n",
      "284728      284728    3100323       655  2021-02-01 18:55:01    10.0   8333   \n",
      "136121      136121    1661916       486  2020-10-20 19:05:04     2.0  10662   \n",
      "37355        37355     814452       486  2020-08-26 10:20:39    10.0   2136   \n",
      "75061        75061    1199682       664  2020-09-24 15:35:50    10.0   8183   \n",
      "141781      141781    1700883       547  2020-10-23 09:50:12     0.0    567   \n",
      "258388      258388    2782242       530  2021-01-05 12:00:10     0.0    104   \n",
      "244070      244070    2602736       495  2020-12-23 11:41:39     9.0   4563   \n",
      "315556      315556    3661932       658  2021-03-04 17:27:07    12.0  12959   \n",
      "131355      131355    1630154       230  2020-10-18 19:18:19     1.0  19497   \n",
      "\n",
      "        battery_low  is_charge  tag_battery_low  \n",
      "217134           76          0                0  \n",
      "284728           72          0                0  \n",
      "136121           57          0                0  \n",
      "37355            45          0                0  \n",
      "75061            26          0                0  \n",
      "141781           66          0                0  \n",
      "258388           92          0                0  \n",
      "244070           87          0                0  \n",
      "315556           58          0                0  \n",
      "131355           24          0                1  \n"
     ]
    }
   ],
   "source": [
    "# Goal of Project: future prediction as well as identify each user’s life patterns\n",
    "# Import required packages\n",
    "import pandas as pd\n",
    "import numpy as np\n",
    "import seaborn as sns\n",
    "import glob\n",
    "import os \n",
    "import matplotlib.pyplot as plt\n",
    "# Load data\n",
    "device_df = pd.read_csv('device_uplink.csv')\n",
    "user_information_df = pd.read_csv('user_information.csv')\n",
    "data = device_df.sample(10)\n",
    "print(data)"
   ]
  },
  {
   "cell_type": "code",
   "execution_count": 1301,
   "id": "ade722ff",
   "metadata": {
    "scrolled": false
   },
   "outputs": [
    {
     "data": {
      "text/plain": [
       "Unnamed: 0           int64\n",
       "uplink_id            int64\n",
       "owner_id             int64\n",
       "client_time         object\n",
       "tag_id             float64\n",
       "step                 int64\n",
       "battery_low          int64\n",
       "is_charge            int64\n",
       "tag_battery_low      int64\n",
       "dtype: object"
      ]
     },
     "execution_count": 1301,
     "metadata": {},
     "output_type": "execute_result"
    }
   ],
   "source": [
    "device_df.dtypes #shows that client time and tag id must be changed to int"
   ]
  },
  {
   "cell_type": "code",
   "execution_count": 1302,
   "id": "2b8bb479",
   "metadata": {},
   "outputs": [
    {
     "name": "stderr",
     "output_type": "stream",
     "text": [
      "/var/folders/db/g89vnvfj68l9dp9q6zz747zh0000gn/T/ipykernel_3731/211885610.py:8: UserWarning: Matplotlib is currently using agg, which is a non-GUI backend, so cannot show the figure.\n",
      "  mp.show()\n"
     ]
    },
    {
     "data": {
      "image/png": "[encoded data removed]",
      "text/plain": [
       "<Figure size 648x576 with 1 Axes>"
      ]
     },
     "metadata": {
      "needs_background": "light"
     },
     "output_type": "display_data"
    }
   ],
   "source": [
    "import pandas as pd\n",
    "import matplotlib.pyplot as mp\n",
    "df = pd.DataFrame(data, columns=[\"tag_id\", \"step\"])\n",
    "# plot the dataframe\n",
    "#df.plot(x=\"Name\", y=[\"Price\", \"User Rating\"], kind=\"bar\", figsize=(9, 8))\n",
    "df.plot(x=\"tag_id\", y=[\"step\"], kind=\"bar\", figsize=(9, 8))\n",
    "# print bar graph\n",
    "mp.show()"
   ]
  },
  {
   "cell_type": "code",
   "execution_count": 1303,
   "id": "30e27902",
   "metadata": {},
   "outputs": [
    {
     "name": "stderr",
     "output_type": "stream",
     "text": [
      "/var/folders/db/g89vnvfj68l9dp9q6zz747zh0000gn/T/ipykernel_3731/3281594355.py:4: UserWarning: Matplotlib is currently using agg, which is a non-GUI backend, so cannot show the figure.\n",
      "  mp.show()\n"
     ]
    },
    {
     "data": {
      "image/png": "[encoded data removed]",
      "text/plain": [
       "<Figure size 648x576 with 1 Axes>"
      ]
     },
     "metadata": {
      "needs_background": "light"
     },
     "output_type": "display_data"
    }
   ],
   "source": [
    "df1 = pd.DataFrame(data, columns=[\"tag_id\", \"owner_id\"])\n",
    "df1.plot( x=\"owner_id\", y=[\"tag_id\"], kind=\"bar\", figsize=(9, 8))\n",
    "# print bar graph\n",
    "mp.show()"
   ]
  },
  {
   "cell_type": "code",
   "execution_count": 1304,
   "id": "0aed6485",
   "metadata": {},
   "outputs": [],
   "source": [
    "df2 = pd.DataFrame(data, columns=[\"tag_id\", \"client_time\"])\n",
    "#df2.plot( x=\"tag_id\", y=[\"client_time\"], kind=\"bar\", figsize=(9, 8))\n",
    "# print bar graph\n",
    "#mp.show() # shows that time variable needs to be converted "
   ]
  },
  {
   "cell_type": "code",
   "execution_count": 1305,
   "id": "87941c0e",
   "metadata": {},
   "outputs": [
    {
     "data": {
      "text/plain": [
       "Unnamed: 0            0\n",
       "uplink_id             0\n",
       "owner_id              0\n",
       "client_time           0\n",
       "tag_id             1206\n",
       "step                  0\n",
       "battery_low           0\n",
       "is_charge             0\n",
       "tag_battery_low       0\n",
       "dtype: int64"
      ]
     },
     "execution_count": 1305,
     "metadata": {},
     "output_type": "execute_result"
    }
   ],
   "source": [
    "device_df.isnull().sum() # This line of code relays that only tag id has missing values\n",
    "#confirms that there are several nan values in tag_id "
   ]
  },
  {
   "cell_type": "code",
   "execution_count": 1306,
   "id": "f4420762",
   "metadata": {},
   "outputs": [
    {
     "data": {
      "text/plain": [
       "(324823, 9)"
      ]
     },
     "execution_count": 1306,
     "metadata": {},
     "output_type": "execute_result"
    }
   ],
   "source": [
    "device_df.shape  # find the dimension of data frame\n",
    "# The dimension of the data frame helps identify the number of rows and columns in the data\n",
    "# The dimension should be reduced because a high dimension can lead to an increase in the \n",
    "# model's complexity, increase the amount of data needed exponentially, and work in an \n",
    "# unexpected direction "
   ]
  },
  {
   "cell_type": "code",
   "execution_count": 1307,
   "id": "13378be2",
   "metadata": {},
   "outputs": [
    {
     "data": {
      "text/plain": [
       "Index(['Unnamed: 0', 'uplink_id', 'owner_id', 'client_time', 'tag_id', 'step',\n",
       "       'battery_low', 'is_charge', 'tag_battery_low'],\n",
       "      dtype='object')"
      ]
     },
     "execution_count": 1307,
     "metadata": {},
     "output_type": "execute_result"
    }
   ],
   "source": [
    "device_df.columns # prints the list of variables/tags"
   ]
  },
  {
   "cell_type": "code",
   "execution_count": 1308,
   "id": "dadfb198",
   "metadata": {
    "scrolled": true
   },
   "outputs": [
    {
     "data": {
      "text/html": [
       "<div>\n",
       "<style scoped>\n",
       "    .dataframe tbody tr th:only-of-type {\n",
       "        vertical-align: middle;\n",
       "    }\n",
       "\n",
       "    .dataframe tbody tr th {\n",
       "        vertical-align: top;\n",
       "    }\n",
       "\n",
       "    .dataframe thead th {\n",
       "        text-align: right;\n",
       "    }\n",
       "</style>\n",
       "<table border=\"1\" class=\"dataframe\">\n",
       "  <thead>\n",
       "    <tr style=\"text-align: right;\">\n",
       "      <th></th>\n",
       "      <th>id</th>\n",
       "      <th>birth year</th>\n",
       "      <th>age</th>\n",
       "      <th>sex</th>\n",
       "      <th>etc</th>\n",
       "    </tr>\n",
       "  </thead>\n",
       "  <tbody>\n",
       "    <tr>\n",
       "      <th>41</th>\n",
       "      <td>585</td>\n",
       "      <td>1939</td>\n",
       "      <td>83</td>\n",
       "      <td>M</td>\n",
       "      <td>협심증약, 고지혈약, 혈압약, 아스피린복용. 15년넘게 심장약 복용중이고 매일 허리...</td>\n",
       "    </tr>\n",
       "    <tr>\n",
       "      <th>40</th>\n",
       "      <td>650</td>\n",
       "      <td>1939</td>\n",
       "      <td>83</td>\n",
       "      <td>M</td>\n",
       "      <td>신장약, 혈압</td>\n",
       "    </tr>\n",
       "    <tr>\n",
       "      <th>50</th>\n",
       "      <td>655</td>\n",
       "      <td>1948</td>\n",
       "      <td>74</td>\n",
       "      <td>M</td>\n",
       "      <td>NaN</td>\n",
       "    </tr>\n",
       "    <tr>\n",
       "      <th>26</th>\n",
       "      <td>582</td>\n",
       "      <td>1948</td>\n",
       "      <td>74</td>\n",
       "      <td>F</td>\n",
       "      <td>차상위, 혈압, 당뇨, 관절</td>\n",
       "    </tr>\n",
       "    <tr>\n",
       "      <th>8</th>\n",
       "      <td>503</td>\n",
       "      <td>1940</td>\n",
       "      <td>82</td>\n",
       "      <td>F</td>\n",
       "      <td>난청이 있으며 신경통약 복용</td>\n",
       "    </tr>\n",
       "    <tr>\n",
       "      <th>6</th>\n",
       "      <td>496</td>\n",
       "      <td>1939</td>\n",
       "      <td>83</td>\n",
       "      <td>F</td>\n",
       "      <td>당뇨, 허리협착증, 저혈당, 갑자기 쓰러지기도</td>\n",
       "    </tr>\n",
       "    <tr>\n",
       "      <th>3</th>\n",
       "      <td>495</td>\n",
       "      <td>1937</td>\n",
       "      <td>85</td>\n",
       "      <td>F</td>\n",
       "      <td>NaN</td>\n",
       "    </tr>\n",
       "    <tr>\n",
       "      <th>25</th>\n",
       "      <td>583</td>\n",
       "      <td>1948</td>\n",
       "      <td>74</td>\n",
       "      <td>F</td>\n",
       "      <td>무자녀</td>\n",
       "    </tr>\n",
       "    <tr>\n",
       "      <th>36</th>\n",
       "      <td>634</td>\n",
       "      <td>1937</td>\n",
       "      <td>85</td>\n",
       "      <td>M</td>\n",
       "      <td>혈압, 전립선</td>\n",
       "    </tr>\n",
       "    <tr>\n",
       "      <th>39</th>\n",
       "      <td>232</td>\n",
       "      <td>1939</td>\n",
       "      <td>83</td>\n",
       "      <td>M</td>\n",
       "      <td>NaN</td>\n",
       "    </tr>\n",
       "  </tbody>\n",
       "</table>\n",
       "</div>"
      ],
      "text/plain": [
       "     id  birth year  age sex  \\\n",
       "41  585        1939   83   M   \n",
       "40  650        1939   83   M   \n",
       "50  655        1948   74   M   \n",
       "26  582        1948   74   F   \n",
       "8   503        1940   82   F   \n",
       "6   496        1939   83   F   \n",
       "3   495        1937   85   F   \n",
       "25  583        1948   74   F   \n",
       "36  634        1937   85   M   \n",
       "39  232        1939   83   M   \n",
       "\n",
       "                                                  etc  \n",
       "41  협심증약, 고지혈약, 혈압약, 아스피린복용. 15년넘게 심장약 복용중이고 매일 허리...  \n",
       "40                                            신장약, 혈압  \n",
       "50                                                NaN  \n",
       "26                                    차상위, 혈압, 당뇨, 관절  \n",
       "8                                     난청이 있으며 신경통약 복용  \n",
       "6                           당뇨, 허리협착증, 저혈당, 갑자기 쓰러지기도  \n",
       "3                                                 NaN  \n",
       "25                                                무자녀  \n",
       "36                                            혈압, 전립선  \n",
       "39                                                NaN  "
      ]
     },
     "execution_count": 1308,
     "metadata": {},
     "output_type": "execute_result"
    }
   ],
   "source": [
    "userInfo_df = pd.read_csv('user_info.csv')\n",
    "userInfo_df.sample(10) # Q1: Random sample of 10 observations\n",
    "# The initial observations based on the random samples are listed below:\n",
    "# The data suggests that the majority of records are of Females aged in their 70s or 80s\n",
    "# The data also suggests that there are several missing values in the etc column"
   ]
  },
  {
   "cell_type": "code",
   "execution_count": 1309,
   "id": "5b8d34a9",
   "metadata": {},
   "outputs": [
    {
     "data": {
      "text/plain": [
       "(52, 5)"
      ]
     },
     "execution_count": 1309,
     "metadata": {},
     "output_type": "execute_result"
    }
   ],
   "source": [
    "userInfo_df.shape  # find the dimension of data frame (rows,columns)"
   ]
  },
  {
   "cell_type": "code",
   "execution_count": 1310,
   "id": "96987363",
   "metadata": {
    "scrolled": false
   },
   "outputs": [
    {
     "data": {
      "text/plain": [
       "Index(['id', 'birth year', 'age', 'sex', 'etc'], dtype='object')"
      ]
     },
     "execution_count": 1310,
     "metadata": {},
     "output_type": "execute_result"
    }
   ],
   "source": [
    "userInfo_df.columns # prints the list of variables/tags"
   ]
  },
  {
   "cell_type": "code",
   "execution_count": 1311,
   "id": "dce1bfba",
   "metadata": {
    "scrolled": true
   },
   "outputs": [
    {
     "data": {
      "text/plain": [
       "id             0\n",
       "birth year     0\n",
       "age            0\n",
       "sex            0\n",
       "etc           19\n",
       "dtype: int64"
      ]
     },
     "execution_count": 1311,
     "metadata": {},
     "output_type": "execute_result"
    }
   ],
   "source": [
    "userInfo_df.isnull().sum() # Q2: Code suggests that the etc column has 19 missing values\n",
    "# Because the variable is not numerical and is not an int, we will have to deal with the \n",
    "# missing values by replacing the null values with the mode of the data"
   ]
  },
  {
   "cell_type": "code",
   "execution_count": 1312,
   "id": "29151bdf",
   "metadata": {},
   "outputs": [
    {
     "data": {
      "text/plain": [
       "id             int64\n",
       "birth year     int64\n",
       "age            int64\n",
       "sex           object\n",
       "etc           object\n",
       "dtype: object"
      ]
     },
     "execution_count": 1312,
     "metadata": {},
     "output_type": "execute_result"
    }
   ],
   "source": [
    "userInfo_df.dtypes"
   ]
  },
  {
   "cell_type": "code",
   "execution_count": 1313,
   "id": "fe8362bc",
   "metadata": {},
   "outputs": [],
   "source": [
    "device_df['client time'] = pd.to_datetime(device_df['client_time'])"
   ]
  },
  {
   "cell_type": "code",
   "execution_count": 1314,
   "id": "bd2c0b82",
   "metadata": {},
   "outputs": [
    {
     "data": {
      "text/plain": [
       "Unnamed: 0                  int64\n",
       "uplink_id                   int64\n",
       "owner_id                    int64\n",
       "client_time                object\n",
       "tag_id                    float64\n",
       "step                        int64\n",
       "battery_low                 int64\n",
       "is_charge                   int64\n",
       "tag_battery_low             int64\n",
       "client time        datetime64[ns]\n",
       "dtype: object"
      ]
     },
     "execution_count": 1314,
     "metadata": {},
     "output_type": "execute_result"
    }
   ],
   "source": [
    "device_df.dtypes"
   ]
  },
  {
   "cell_type": "code",
   "execution_count": 1315,
   "id": "a569acd2",
   "metadata": {},
   "outputs": [],
   "source": [
    "userInfo_df['etc'] = userInfo_df['etc'].fillna(value='')\n",
    "device_df['tag_id'] = device_df['tag_id'].fillna(value = 0.0)\n",
    "device_df['tag_id'] = [int(n) for n in device_df['tag_id']]"
   ]
  },
  {
   "cell_type": "code",
   "execution_count": 1316,
   "id": "81c543f7",
   "metadata": {},
   "outputs": [],
   "source": [
    "device_df = device_df.loc[device_df['owner_id']>=0]\n",
    "userInfo_df = userInfo_df.drop(columns = ['birth year'])"
   ]
  },
  {
   "cell_type": "code",
   "execution_count": 1317,
   "id": "d154264e",
   "metadata": {},
   "outputs": [],
   "source": [
    "device_df = device_df.loc[device_df['tag_id'] <18]\n",
    "userInfo_df['sex'] = userInfo_df['sex'].astype('category')\n",
    "userInfo_df['sex'] = pd.get_dummies(userInfo_df['sex'], prefix_sep='_', drop_first=True)"
   ]
  },
  {
   "cell_type": "code",
   "execution_count": 1318,
   "id": "13a97ca7",
   "metadata": {},
   "outputs": [
    {
     "name": "stderr",
     "output_type": "stream",
     "text": [
      "/var/folders/db/g89vnvfj68l9dp9q6zz747zh0000gn/T/ipykernel_3731/3178975808.py:4: UserWarning: Matplotlib is currently using agg, which is a non-GUI backend, so cannot show the figure.\n",
      "  plt.show()\n"
     ]
    },
    {
     "data": {
      "image/png": "[encoded data removed]",
      "text/plain": [
       "<Figure size 864x720 with 2 Axes>"
      ]
     },
     "metadata": {
      "needs_background": "light"
     },
     "output_type": "display_data"
    }
   ],
   "source": [
    "plt.figure(figsize=(12,10))\n",
    "cor = device_df.corr()\n",
    "sns.heatmap(cor, annot=True, cmap=plt.cm.Reds)\n",
    "plt.show()"
   ]
  },
  {
   "cell_type": "code",
   "execution_count": 1319,
   "id": "85345445",
   "metadata": {},
   "outputs": [
    {
     "name": "stdout",
     "output_type": "stream",
     "text": [
      "          tag_id      step\n",
      "tag_id  1.000000 -0.011967\n",
      "step   -0.011967  1.000000\n",
      "             battery_low    tag_id\n",
      "battery_low     1.000000  0.003578\n",
      "tag_id          0.003578  1.000000\n"
     ]
    }
   ],
   "source": [
    "print(device_df[[\"tag_id\",\"step\"]].corr())\n",
    "print(device_df[[\"battery_low\",\"tag_id\"]].corr())"
   ]
  },
  {
   "cell_type": "code",
   "execution_count": 1,
   "id": "7163e733",
   "metadata": {},
   "outputs": [
    {
     "ename": "NameError",
     "evalue": "name 'user_information_df' is not defined",
     "output_type": "error",
     "traceback": [
      "\u001b[0;31m---------------------------------------------------------------------------\u001b[0m",
      "\u001b[0;31mNameError\u001b[0m                                 Traceback (most recent call last)",
      "\u001b[0;32m/var/folders/db/g89vnvfj68l9dp9q6zz747zh0000gn/T/ipykernel_4827/2576587815.py\u001b[0m in \u001b[0;36m<module>\u001b[0;34m\u001b[0m\n\u001b[0;32m----> 1\u001b[0;31m \u001b[0muser_information_df\u001b[0m\u001b[0;34m.\u001b[0m\u001b[0msample\u001b[0m\u001b[0;34m(\u001b[0m\u001b[0;36m10\u001b[0m\u001b[0;34m)\u001b[0m\u001b[0;34m\u001b[0m\u001b[0;34m\u001b[0m\u001b[0m\n\u001b[0m",
      "\u001b[0;31mNameError\u001b[0m: name 'user_information_df' is not defined"
     ]
    }
   ],
   "source": []
  },
  {
   "cell_type": "code",
   "execution_count": 2,
   "id": "cde8ae0d",
   "metadata": {},
   "outputs": [
    {
     "ename": "NameError",
     "evalue": "name 'user_information_df' is not defined",
     "output_type": "error",
     "traceback": [
      "\u001b[0;31m---------------------------------------------------------------------------\u001b[0m",
      "\u001b[0;31mNameError\u001b[0m                                 Traceback (most recent call last)",
      "\u001b[0;32m/var/folders/db/g89vnvfj68l9dp9q6zz747zh0000gn/T/ipykernel_4827/2724046170.py\u001b[0m in \u001b[0;36m<module>\u001b[0;34m\u001b[0m\n\u001b[1;32m      1\u001b[0m \u001b[0;31m#Project 2\u001b[0m\u001b[0;34m\u001b[0m\u001b[0;34m\u001b[0m\u001b[0m\n\u001b[0;32m----> 2\u001b[0;31m \u001b[0muser_information_df\u001b[0m\u001b[0;34m.\u001b[0m\u001b[0mhead\u001b[0m\u001b[0;34m(\u001b[0m\u001b[0;34m)\u001b[0m \u001b[0;31m#sample of new csv file\u001b[0m\u001b[0;34m\u001b[0m\u001b[0;34m\u001b[0m\u001b[0m\n\u001b[0m",
      "\u001b[0;31mNameError\u001b[0m: name 'user_information_df' is not defined"
     ]
    }
   ],
   "source": [
    "#Project 2\n",
    "user_information_df.head() #sample of new csv file"
   ]
  },
  {
   "cell_type": "code",
   "execution_count": 1321,
   "id": "0b679301",
   "metadata": {},
   "outputs": [
    {
     "data": {
      "text/plain": [
       "user_id               int64\n",
       "birth year            int64\n",
       "age                   int64\n",
       "sex                  object\n",
       "etc                  object\n",
       "depression_score    float64\n",
       "depression_class     object\n",
       "dtype: object"
      ]
     },
     "execution_count": 1321,
     "metadata": {},
     "output_type": "execute_result"
    }
   ],
   "source": [
    "user_information_df.dtypes "
   ]
  },
  {
   "cell_type": "code",
   "execution_count": 1322,
   "id": "f7e10454",
   "metadata": {},
   "outputs": [
    {
     "data": {
      "text/plain": [
       "(53, 7)"
      ]
     },
     "execution_count": 1322,
     "metadata": {},
     "output_type": "execute_result"
    }
   ],
   "source": [
    "user_information_df.shape"
   ]
  },
  {
   "cell_type": "code",
   "execution_count": 1323,
   "id": "7f927cbf",
   "metadata": {},
   "outputs": [],
   "source": [
    "user_information_df.rename(columns = {'user_id':'id', 'age':'age'}, inplace = True) #rename column"
   ]
  },
  {
   "cell_type": "code",
   "execution_count": 1358,
   "id": "6972fa0c",
   "metadata": {},
   "outputs": [],
   "source": [
    "#merge csv files and rename columns\n",
    "users_df = user_information_df.merge(userInfo_df, on = 'id')\n",
    "user1_df = users_df.drop(labels=['age_y', 'sex_y', 'etc_y'], axis=1)\n",
    "user1_df.rename(columns={'age_x':'age', 'sex_x': 'sex', 'etc_x': 'etc'}, inplace= True)"
   ]
  },
  {
   "cell_type": "code",
   "execution_count": 1359,
   "id": "16317847",
   "metadata": {},
   "outputs": [
    {
     "name": "stdout",
     "output_type": "stream",
     "text": [
      "    0   3   4   5   8   10\n",
      "4    1   0   0   0   0   0\n",
      "6    1   0   0   0   0   0\n",
      "9    1   0   0   0   0   0\n",
      "11   1   0   0   0   0   0\n",
      "12   1   0   0   0   0   0\n"
     ]
    }
   ],
   "source": [
    "# tag_id is converted to dummy variable to use in regression models \n",
    "tag_id = pd.get_dummies(device_df['tag_id'])\n",
    "print(tag_id.head())"
   ]
  },
  {
   "cell_type": "code",
   "execution_count": 1360,
   "id": "41217f66",
   "metadata": {},
   "outputs": [
    {
     "data": {
      "text/html": [
       "<div>\n",
       "<style scoped>\n",
       "    .dataframe tbody tr th:only-of-type {\n",
       "        vertical-align: middle;\n",
       "    }\n",
       "\n",
       "    .dataframe tbody tr th {\n",
       "        vertical-align: top;\n",
       "    }\n",
       "\n",
       "    .dataframe thead th {\n",
       "        text-align: right;\n",
       "    }\n",
       "</style>\n",
       "<table border=\"1\" class=\"dataframe\">\n",
       "  <thead>\n",
       "    <tr style=\"text-align: right;\">\n",
       "      <th></th>\n",
       "      <th>Unnamed: 0</th>\n",
       "      <th>client_time</th>\n",
       "      <th>step</th>\n",
       "      <th>battery_low</th>\n",
       "      <th>is_charge</th>\n",
       "      <th>tag_battery_low</th>\n",
       "      <th>tag_0_0</th>\n",
       "      <th>tag_0_1</th>\n",
       "      <th>tag_1_0</th>\n",
       "      <th>tag_1_1</th>\n",
       "      <th>...</th>\n",
       "      <th>tag_7_0</th>\n",
       "      <th>tag_8_0</th>\n",
       "      <th>tag_9_0</th>\n",
       "      <th>tag_9_1</th>\n",
       "      <th>tag_10_0</th>\n",
       "      <th>tag_10_1</th>\n",
       "      <th>tag_11_0</th>\n",
       "      <th>tag_11_1</th>\n",
       "      <th>tag_12_0</th>\n",
       "      <th>tag_12_1</th>\n",
       "    </tr>\n",
       "  </thead>\n",
       "  <tbody>\n",
       "    <tr>\n",
       "      <th>0</th>\n",
       "      <td>14052</td>\n",
       "      <td>2020-08-04 14:03:46</td>\n",
       "      <td>1069</td>\n",
       "      <td>29</td>\n",
       "      <td>0</td>\n",
       "      <td>0</td>\n",
       "      <td>1</td>\n",
       "      <td>0</td>\n",
       "      <td>1</td>\n",
       "      <td>0</td>\n",
       "      <td>...</td>\n",
       "      <td>1</td>\n",
       "      <td>1</td>\n",
       "      <td>1</td>\n",
       "      <td>0</td>\n",
       "      <td>0</td>\n",
       "      <td>1</td>\n",
       "      <td>1</td>\n",
       "      <td>0</td>\n",
       "      <td>1</td>\n",
       "      <td>0</td>\n",
       "    </tr>\n",
       "    <tr>\n",
       "      <th>1</th>\n",
       "      <td>14053</td>\n",
       "      <td>2020-08-04 14:07:54</td>\n",
       "      <td>1107</td>\n",
       "      <td>31</td>\n",
       "      <td>0</td>\n",
       "      <td>0</td>\n",
       "      <td>1</td>\n",
       "      <td>0</td>\n",
       "      <td>1</td>\n",
       "      <td>0</td>\n",
       "      <td>...</td>\n",
       "      <td>1</td>\n",
       "      <td>1</td>\n",
       "      <td>1</td>\n",
       "      <td>0</td>\n",
       "      <td>1</td>\n",
       "      <td>0</td>\n",
       "      <td>1</td>\n",
       "      <td>0</td>\n",
       "      <td>1</td>\n",
       "      <td>0</td>\n",
       "    </tr>\n",
       "    <tr>\n",
       "      <th>2</th>\n",
       "      <td>14054</td>\n",
       "      <td>2020-08-04 14:10:11</td>\n",
       "      <td>1114</td>\n",
       "      <td>30</td>\n",
       "      <td>0</td>\n",
       "      <td>0</td>\n",
       "      <td>1</td>\n",
       "      <td>0</td>\n",
       "      <td>1</td>\n",
       "      <td>0</td>\n",
       "      <td>...</td>\n",
       "      <td>1</td>\n",
       "      <td>1</td>\n",
       "      <td>1</td>\n",
       "      <td>0</td>\n",
       "      <td>1</td>\n",
       "      <td>0</td>\n",
       "      <td>1</td>\n",
       "      <td>0</td>\n",
       "      <td>1</td>\n",
       "      <td>0</td>\n",
       "    </tr>\n",
       "    <tr>\n",
       "      <th>3</th>\n",
       "      <td>14055</td>\n",
       "      <td>2020-08-04 14:12:03</td>\n",
       "      <td>1122</td>\n",
       "      <td>29</td>\n",
       "      <td>0</td>\n",
       "      <td>0</td>\n",
       "      <td>1</td>\n",
       "      <td>0</td>\n",
       "      <td>1</td>\n",
       "      <td>0</td>\n",
       "      <td>...</td>\n",
       "      <td>1</td>\n",
       "      <td>1</td>\n",
       "      <td>1</td>\n",
       "      <td>0</td>\n",
       "      <td>1</td>\n",
       "      <td>0</td>\n",
       "      <td>1</td>\n",
       "      <td>0</td>\n",
       "      <td>0</td>\n",
       "      <td>1</td>\n",
       "    </tr>\n",
       "    <tr>\n",
       "      <th>4</th>\n",
       "      <td>14056</td>\n",
       "      <td>2020-08-04 14:12:31</td>\n",
       "      <td>1133</td>\n",
       "      <td>29</td>\n",
       "      <td>0</td>\n",
       "      <td>0</td>\n",
       "      <td>1</td>\n",
       "      <td>0</td>\n",
       "      <td>1</td>\n",
       "      <td>0</td>\n",
       "      <td>...</td>\n",
       "      <td>1</td>\n",
       "      <td>1</td>\n",
       "      <td>1</td>\n",
       "      <td>0</td>\n",
       "      <td>1</td>\n",
       "      <td>0</td>\n",
       "      <td>1</td>\n",
       "      <td>0</td>\n",
       "      <td>1</td>\n",
       "      <td>0</td>\n",
       "    </tr>\n",
       "    <tr>\n",
       "      <th>...</th>\n",
       "      <td>...</td>\n",
       "      <td>...</td>\n",
       "      <td>...</td>\n",
       "      <td>...</td>\n",
       "      <td>...</td>\n",
       "      <td>...</td>\n",
       "      <td>...</td>\n",
       "      <td>...</td>\n",
       "      <td>...</td>\n",
       "      <td>...</td>\n",
       "      <td>...</td>\n",
       "      <td>...</td>\n",
       "      <td>...</td>\n",
       "      <td>...</td>\n",
       "      <td>...</td>\n",
       "      <td>...</td>\n",
       "      <td>...</td>\n",
       "      <td>...</td>\n",
       "      <td>...</td>\n",
       "      <td>...</td>\n",
       "      <td>...</td>\n",
       "    </tr>\n",
       "    <tr>\n",
       "      <th>9477</th>\n",
       "      <td>160002</td>\n",
       "      <td>2020-11-02 10:31:57</td>\n",
       "      <td>867</td>\n",
       "      <td>21</td>\n",
       "      <td>0</td>\n",
       "      <td>0</td>\n",
       "      <td>0</td>\n",
       "      <td>1</td>\n",
       "      <td>1</td>\n",
       "      <td>0</td>\n",
       "      <td>...</td>\n",
       "      <td>1</td>\n",
       "      <td>1</td>\n",
       "      <td>1</td>\n",
       "      <td>0</td>\n",
       "      <td>1</td>\n",
       "      <td>0</td>\n",
       "      <td>1</td>\n",
       "      <td>0</td>\n",
       "      <td>1</td>\n",
       "      <td>0</td>\n",
       "    </tr>\n",
       "    <tr>\n",
       "      <th>9478</th>\n",
       "      <td>160007</td>\n",
       "      <td>2020-11-02 10:38:00</td>\n",
       "      <td>919</td>\n",
       "      <td>22</td>\n",
       "      <td>0</td>\n",
       "      <td>0</td>\n",
       "      <td>1</td>\n",
       "      <td>0</td>\n",
       "      <td>1</td>\n",
       "      <td>0</td>\n",
       "      <td>...</td>\n",
       "      <td>1</td>\n",
       "      <td>1</td>\n",
       "      <td>1</td>\n",
       "      <td>0</td>\n",
       "      <td>1</td>\n",
       "      <td>0</td>\n",
       "      <td>1</td>\n",
       "      <td>0</td>\n",
       "      <td>0</td>\n",
       "      <td>1</td>\n",
       "    </tr>\n",
       "    <tr>\n",
       "      <th>9479</th>\n",
       "      <td>160008</td>\n",
       "      <td>2020-11-02 10:38:25</td>\n",
       "      <td>927</td>\n",
       "      <td>21</td>\n",
       "      <td>0</td>\n",
       "      <td>0</td>\n",
       "      <td>1</td>\n",
       "      <td>0</td>\n",
       "      <td>1</td>\n",
       "      <td>0</td>\n",
       "      <td>...</td>\n",
       "      <td>1</td>\n",
       "      <td>1</td>\n",
       "      <td>1</td>\n",
       "      <td>0</td>\n",
       "      <td>1</td>\n",
       "      <td>0</td>\n",
       "      <td>1</td>\n",
       "      <td>0</td>\n",
       "      <td>1</td>\n",
       "      <td>0</td>\n",
       "    </tr>\n",
       "    <tr>\n",
       "      <th>9480</th>\n",
       "      <td>160009</td>\n",
       "      <td>2020-11-02 10:39:28</td>\n",
       "      <td>955</td>\n",
       "      <td>21</td>\n",
       "      <td>0</td>\n",
       "      <td>0</td>\n",
       "      <td>1</td>\n",
       "      <td>0</td>\n",
       "      <td>1</td>\n",
       "      <td>0</td>\n",
       "      <td>...</td>\n",
       "      <td>1</td>\n",
       "      <td>1</td>\n",
       "      <td>1</td>\n",
       "      <td>0</td>\n",
       "      <td>1</td>\n",
       "      <td>0</td>\n",
       "      <td>1</td>\n",
       "      <td>0</td>\n",
       "      <td>1</td>\n",
       "      <td>0</td>\n",
       "    </tr>\n",
       "    <tr>\n",
       "      <th>9481</th>\n",
       "      <td>160011</td>\n",
       "      <td>2020-11-02 10:40:08</td>\n",
       "      <td>966</td>\n",
       "      <td>22</td>\n",
       "      <td>0</td>\n",
       "      <td>0</td>\n",
       "      <td>0</td>\n",
       "      <td>1</td>\n",
       "      <td>1</td>\n",
       "      <td>0</td>\n",
       "      <td>...</td>\n",
       "      <td>1</td>\n",
       "      <td>1</td>\n",
       "      <td>1</td>\n",
       "      <td>0</td>\n",
       "      <td>1</td>\n",
       "      <td>0</td>\n",
       "      <td>1</td>\n",
       "      <td>0</td>\n",
       "      <td>1</td>\n",
       "      <td>0</td>\n",
       "    </tr>\n",
       "  </tbody>\n",
       "</table>\n",
       "<p>9482 rows × 27 columns</p>\n",
       "</div>"
      ],
      "text/plain": [
       "      Unnamed: 0          client_time  step  battery_low  is_charge  \\\n",
       "0          14052  2020-08-04 14:03:46  1069           29          0   \n",
       "1          14053  2020-08-04 14:07:54  1107           31          0   \n",
       "2          14054  2020-08-04 14:10:11  1114           30          0   \n",
       "3          14055  2020-08-04 14:12:03  1122           29          0   \n",
       "4          14056  2020-08-04 14:12:31  1133           29          0   \n",
       "...          ...                  ...   ...          ...        ...   \n",
       "9477      160002  2020-11-02 10:31:57   867           21          0   \n",
       "9478      160007  2020-11-02 10:38:00   919           22          0   \n",
       "9479      160008  2020-11-02 10:38:25   927           21          0   \n",
       "9480      160009  2020-11-02 10:39:28   955           21          0   \n",
       "9481      160011  2020-11-02 10:40:08   966           22          0   \n",
       "\n",
       "      tag_battery_low  tag_0_0  tag_0_1  tag_1_0  tag_1_1  ...  tag_7_0  \\\n",
       "0                   0        1        0        1        0  ...        1   \n",
       "1                   0        1        0        1        0  ...        1   \n",
       "2                   0        1        0        1        0  ...        1   \n",
       "3                   0        1        0        1        0  ...        1   \n",
       "4                   0        1        0        1        0  ...        1   \n",
       "...               ...      ...      ...      ...      ...  ...      ...   \n",
       "9477                0        0        1        1        0  ...        1   \n",
       "9478                0        1        0        1        0  ...        1   \n",
       "9479                0        1        0        1        0  ...        1   \n",
       "9480                0        1        0        1        0  ...        1   \n",
       "9481                0        0        1        1        0  ...        1   \n",
       "\n",
       "      tag_8_0  tag_9_0  tag_9_1  tag_10_0  tag_10_1  tag_11_0  tag_11_1  \\\n",
       "0           1        1        0         0         1         1         0   \n",
       "1           1        1        0         1         0         1         0   \n",
       "2           1        1        0         1         0         1         0   \n",
       "3           1        1        0         1         0         1         0   \n",
       "4           1        1        0         1         0         1         0   \n",
       "...       ...      ...      ...       ...       ...       ...       ...   \n",
       "9477        1        1        0         1         0         1         0   \n",
       "9478        1        1        0         1         0         1         0   \n",
       "9479        1        1        0         1         0         1         0   \n",
       "9480        1        1        0         1         0         1         0   \n",
       "9481        1        1        0         1         0         1         0   \n",
       "\n",
       "      tag_12_0  tag_12_1  \n",
       "0            1         0  \n",
       "1            1         0  \n",
       "2            1         0  \n",
       "3            0         1  \n",
       "4            1         0  \n",
       "...        ...       ...  \n",
       "9477         1         0  \n",
       "9478         0         1  \n",
       "9479         1         0  \n",
       "9480         1         0  \n",
       "9481         1         0  \n",
       "\n",
       "[9482 rows x 27 columns]"
      ]
     },
     "metadata": {},
     "output_type": "display_data"
    }
   ],
   "source": [
    "#dummy variables for user 495, 496, and users assigned \n",
    "data495_df = pd.read_csv('data_495.csv')\n",
    "data496_df = pd.read_csv('data_496.csv')\n",
    "data524_df = pd.read_csv('data_524.csv')\n",
    "data582_df = pd.read_csv('data_582.csv')\n",
    "data664_df = pd.read_csv('data_664.csv')\n",
    "data495_df = pd.get_dummies(data495_df, columns =['tag_0','tag_1','tag_2','tag_3','tag_4','tag_5','tag_6','tag_7','tag_8','tag_9','tag_10','tag_11','tag_12'])\n",
    "data496_df = pd.get_dummies(data496_df, columns =['tag_0','tag_1','tag_2','tag_3','tag_4','tag_5','tag_6','tag_7','tag_8','tag_9','tag_10','tag_11','tag_12'])\n",
    "data524_df = pd.get_dummies(data524_df, columns =['tag_0','tag_1','tag_2','tag_3','tag_4','tag_5','tag_6','tag_7','tag_8','tag_9','tag_10','tag_11','tag_12'])\n",
    "data582_df = pd.get_dummies(data582_df, columns =['tag_0','tag_1','tag_2','tag_3','tag_4','tag_5','tag_6','tag_7','tag_8','tag_9','tag_10','tag_11','tag_12'])\n",
    "data664_df = pd.get_dummies(data664_df, columns =['tag_0','tag_1','tag_2','tag_3','tag_4','tag_5','tag_6','tag_7','tag_8','tag_9','tag_10','tag_11','tag_12'])\n",
    "display(data524_df)"
   ]
  },
  {
   "cell_type": "code",
   "execution_count": 1361,
   "id": "d21d2c76",
   "metadata": {},
   "outputs": [
    {
     "name": "stdout",
     "output_type": "stream",
     "text": [
      "     Predictor  coefficient\n",
      "0       tag_id    -0.037461\n",
      "1         step    -0.000005\n",
      "2  battery_low     0.000627\n",
      "\n",
      "Regression statistics\n",
      "\n",
      "               Mean Error (ME) : 0.0000\n",
      "Root Mean Squared Error (RMSE) : 0.2940\n",
      "     Mean Absolute Error (MAE) : 0.2421\n",
      "    Predicted  Actual  Residual\n",
      "30   0.479116   0.625  0.145884\n",
      "2    0.404174   0.125 -0.279174\n",
      "51   0.404110   0.000 -0.404110\n",
      "32   0.467960   0.125 -0.342960\n",
      "31   0.470356   0.000 -0.470356\n",
      "46   0.417404   0.000 -0.417404\n",
      "34   0.463685   0.625  0.161315\n",
      "39   0.444639   0.375 -0.069639\n",
      "45   0.421871   0.250 -0.171871\n",
      "19   0.112076   0.500  0.387924\n",
      "10   0.445737   0.000 -0.445737\n",
      "3    0.432602   0.250 -0.182602\n",
      "21   0.335982   0.000 -0.335982\n",
      "49   0.405671   0.000 -0.405671\n",
      "38   0.449919   0.000 -0.449919\n",
      "41   0.437635   0.125 -0.312635\n",
      "24   0.484659   0.500  0.015341\n",
      "42   0.436481   0.875  0.438519\n",
      "40   0.439253   0.000 -0.439253\n",
      "35   0.461401   0.500  0.038599\n",
      "0.4278355158048195\n",
      "[-3.74608102e-02 -5.39172374e-06  6.26904658e-04]\n"
     ]
    }
   ],
   "source": [
    "#multiple linear regression model to depression score using tag id, step, and battery low as predictors\n",
    "import pandas as pd\n",
    "from sklearn.model_selection import train_test_split\n",
    "from sklearn.linear_model import LinearRegression, Lasso, Ridge, LassoCV, BayesianRidge\n",
    "import statsmodels.formula.api as sm\n",
    "import matplotlib.pylab as plt\n",
    "from dmba import regressionSummary, exhaustive_search\n",
    "from dmba import backward_elimination, forward_selection, stepwise_selection\n",
    "from dmba import adjusted_r2_score, AIC_score, BIC_score\n",
    "device_df = device_df.iloc[0:53] #53 samples due to shape of user1 df \n",
    "\n",
    "#predictors and outcome\n",
    "predictors = ['tag_id', 'step', 'battery_low']\n",
    "outcome = 'depression_score'\n",
    "\n",
    "# partition data 60% training 40% validation\n",
    "X = pd.get_dummies(device_df[predictors], drop_first=True)\n",
    "y = user1_df[outcome]\n",
    "train_X, valid_X, train_y, valid_y = train_test_split(X, y, test_size=0.4, random_state=1)\n",
    "\n",
    "depression_lm = LinearRegression()\n",
    "depression_lm.fit(train_X, train_y)\n",
    "\n",
    "# print coefficients\n",
    "print(pd.DataFrame({'Predictor': X.columns, 'coefficient': depression_lm.coef_}))\n",
    "\n",
    "# print performance measures (training data)\n",
    "regressionSummary(train_y, depression_lm.predict(train_X))\n",
    "depression_lm_pred = depression_lm.predict(valid_X)\n",
    "\n",
    "result = pd.DataFrame({'Predicted': depression_lm_pred, 'Actual': valid_y,'Residual': valid_y - depression_lm_pred})\n",
    "print(result.head(20))\n",
    "\n",
    "#Equation\n",
    "# Y denoted as depression score\n",
    "# Y =  0.4278355158048195 + (-0.037461*tag_id) +  (-0.000005*step) + (0.000627*battery_low)\n",
    "print(depression_lm.intercept_) #for equation(b0- meaning value when all is equal to 0)\n",
    "print(depression_lm.coef_)\n",
    "#positive coefficient from battery_low shows that as the \"value of the independent variable increases, \n",
    "#the mean of the dependent variable also increases\""
   ]
  },
  {
   "cell_type": "code",
   "execution_count": 1362,
   "id": "b1a5f4ff",
   "metadata": {},
   "outputs": [
    {
     "name": "stdout",
     "output_type": "stream",
     "text": [
      "0.8636363636363636\n"
     ]
    },
    {
     "name": "stderr",
     "output_type": "stream",
     "text": [
      "/var/folders/db/g89vnvfj68l9dp9q6zz747zh0000gn/T/ipykernel_3731/2929344346.py:7: UserWarning: Matplotlib is currently using agg, which is a non-GUI backend, so cannot show the figure.\n",
      "  plt.show()\n"
     ]
    },
    {
     "data": {
      "image/png": "[encoded data removed]",
      "text/plain": [
       "<Figure size 432x288 with 1 Axes>"
      ]
     },
     "metadata": {
      "needs_background": "light"
     },
     "output_type": "display_data"
    }
   ],
   "source": [
    "all_predicted = depression_lm_pred \n",
    "# Determine the percentage of datapoints with predicted values [.4, .5] = approx.\n",
    "# 75%\n",
    "# The percentage of datapoints with a predicted value in [.4, .5] = 75%\n",
    "print(len(all_predicted[(all_predicted > .4) & (all_predicted < .5)]) / len(all_predicted))\n",
    "pd.DataFrame({'Predicted': all_predicted}).hist(bins=25)\n",
    "plt.show()"
   ]
  },
  {
   "cell_type": "code",
   "execution_count": 1363,
   "id": "7af0c37d",
   "metadata": {},
   "outputs": [
    {
     "name": "stdout",
     "output_type": "stream",
     "text": [
      "0.0\n"
     ]
    },
    {
     "name": "stderr",
     "output_type": "stream",
     "text": [
      "/var/folders/db/g89vnvfj68l9dp9q6zz747zh0000gn/T/ipykernel_3731/43860018.py:7: UserWarning: Matplotlib is currently using agg, which is a non-GUI backend, so cannot show the figure.\n",
      "  plt.show()\n"
     ]
    },
    {
     "data": {
      "image/png": "[encoded data removed]",
      "text/plain": [
       "<Figure size 432x288 with 1 Axes>"
      ]
     },
     "metadata": {
      "needs_background": "light"
     },
     "output_type": "display_data"
    }
   ],
   "source": [
    "all_residuals = valid_y - depression_lm_pred\n",
    "# Determine the percentage of datapoints with a residual in [-.8, 1] = approx.\n",
    "# 75%\n",
    "# The percentage of datapoints with a residual in [-.8, 1] = 75%\n",
    "print(len(all_residuals[(all_residuals > -.8) & (all_residuals < -1)]) / len(all_residuals))\n",
    "pd.DataFrame({'Residuals': all_residuals}).hist(bins=25)\n",
    "plt.show()"
   ]
  },
  {
   "cell_type": "code",
   "execution_count": 1364,
   "id": "3da3c34b",
   "metadata": {},
   "outputs": [
    {
     "name": "stdout",
     "output_type": "stream",
     "text": [
      "Variables: tag_id, step, battery_low\n",
      "Start: score=18.50, constant\n",
      "Step: score=18.45, add tag_id\n",
      "Step: score=18.45, add None\n",
      "['tag_id']\n",
      "\n",
      "Regression statistics\n",
      "\n",
      "               Mean Error (ME) : -0.1643\n",
      "Root Mean Squared Error (RMSE) : 0.3189\n",
      "     Mean Absolute Error (MAE) : 0.2812\n"
     ]
    },
    {
     "name": "stderr",
     "output_type": "stream",
     "text": [
      "/var/folders/db/g89vnvfj68l9dp9q6zz747zh0000gn/T/ipykernel_3731/361883891.py:41: UserWarning: Matplotlib is currently using agg, which is a non-GUI backend, so cannot show the figure.\n",
      "  plt.show()\n"
     ]
    },
    {
     "data": {
      "image/png": "[encoded data removed]",
      "text/plain": [
       "<Figure size 432x288 with 2 Axes>"
      ]
     },
     "metadata": {
      "needs_background": "light"
     },
     "output_type": "display_data"
    }
   ],
   "source": [
    "# Forward Regression (Part C)\n",
    "from dmba import forward_selection\n",
    "from sklearn.linear_model import LinearRegression\n",
    "from sklearn.metrics import accuracy_score, roc_curve, auc\n",
    "import matplotlib.pylab as plt\n",
    "from dmba import regressionSummary, classificationSummary\n",
    "from dmba import liftChart, gainsChart \n",
    "import math\n",
    "import pandas as pd\n",
    "from sklearn.model_selection import train_test_split\n",
    "from sklearn.linear_model import LinearRegression\n",
    "def train_model(variables):\n",
    "    if len(variables) == 0:\n",
    "         return None\n",
    "    model = LinearRegression()\n",
    "    model.fit(train_X[variables], train_y)\n",
    "    return model\n",
    "def score_model(model, variables):\n",
    "     if len(variables) == 0:\n",
    "        return AIC_score(train_y, [train_y.mean()] * len(train_y),model, df=1)\n",
    "     return AIC_score(train_y, model.predict(train_X[variables]), model)\n",
    "best_model, best_variables = forward_selection(train_X.columns, train_model, score_model,verbose=True)\n",
    "print(best_variables)\n",
    "\n",
    "\n",
    "# print performance measures (validation data)\n",
    "regressionSummary(valid_y, best_model.predict(valid_X[best_variables]))\n",
    "\n",
    "pred_v = pd.Series(best_model.predict(valid_X[best_variables]))\n",
    "pred_v = pred_v.sort_values(ascending=False)\n",
    "\n",
    "fig, axes = plt.subplots(nrows=1, ncols=2)\n",
    "ax = gainsChart(pred_v, ax=axes[0])\n",
    "ax.set_ylabel('Cumulative Value')\n",
    "ax.set_title('Cumulative Gains Chart')\n",
    "\n",
    "ax = liftChart(pred_v, ax=axes[1], labelBars=False)\n",
    "ax.set_ylabel('Lift')\n",
    "\n",
    "plt.tight_layout()\n",
    "plt.show()"
   ]
  },
  {
   "cell_type": "code",
   "execution_count": 1365,
   "id": "04c9abda",
   "metadata": {},
   "outputs": [
    {
     "name": "stdout",
     "output_type": "stream",
     "text": [
      "Variables: tag_id, step, battery_low\n",
      "Start: score=22.07\n",
      "Step: score=20.13, remove battery_low\n",
      "Step: score=18.45, remove step\n",
      "['tag_id']\n",
      "\n",
      "Regression statistics\n",
      "\n",
      "               Mean Error (ME) : -0.1643\n",
      "Root Mean Squared Error (RMSE) : 0.3189\n",
      "     Mean Absolute Error (MAE) : 0.2812\n"
     ]
    },
    {
     "name": "stderr",
     "output_type": "stream",
     "text": [
      "/var/folders/db/g89vnvfj68l9dp9q6zz747zh0000gn/T/ipykernel_3731/178878256.py:27: UserWarning: Matplotlib is currently using agg, which is a non-GUI backend, so cannot show the figure.\n",
      "  plt.show()\n"
     ]
    },
    {
     "data": {
      "image/png": "[encoded data removed]",
      "text/plain": [
       "<Figure size 432x288 with 2 Axes>"
      ]
     },
     "metadata": {
      "needs_background": "light"
     },
     "output_type": "display_data"
    }
   ],
   "source": [
    "# Backward Regression (Part C)\n",
    "from dmba import backward_elimination\n",
    "\n",
    "def score_model(model, variables):\n",
    "     return AIC_score(train_y, model.predict(train_X[variables]), model)\n",
    "allVariables = train_X.columns\n",
    "best_model, best_variables = backward_elimination(allVariables, train_model, score_model, verbose=True)\n",
    "print(best_variables)\n",
    "\n",
    "# print performance measures (validation data)\n",
    "regressionSummary(valid_y, best_model.predict(valid_X[best_variables]))\n",
    "\n",
    "#Backward and forward regression have same regression summary(results) and predictor(tag_id) as best variable\n",
    "\n",
    "pred_v = pd.Series(best_model.predict(valid_X[best_variables]))\n",
    "pred_v = pred_v.sort_values(ascending=False)\n",
    "\n",
    "fig, axes = plt.subplots(nrows=1, ncols=2)\n",
    "ax = gainsChart(pred_v, ax=axes[0])\n",
    "ax.set_ylabel('Cumulative Value')\n",
    "ax.set_title('Cumulative Gains Chart')\n",
    "\n",
    "ax = liftChart(pred_v, ax=axes[1], labelBars=False)\n",
    "ax.set_ylabel('Lift')\n",
    "\n",
    "plt.tight_layout()\n",
    "plt.show()"
   ]
  },
  {
   "cell_type": "code",
   "execution_count": 1366,
   "id": "45a0abad",
   "metadata": {},
   "outputs": [
    {
     "name": "stdout",
     "output_type": "stream",
     "text": [
      "Variables: tag_id, step, battery_low\n",
      "Start: score=18.50, constant\n",
      "Step: score=18.45, add tag_id\n",
      "Step: score=18.45, unchanged None\n",
      "['tag_id']\n",
      "\n",
      "Regression statistics\n",
      "\n",
      "               Mean Error (ME) : -0.1643\n",
      "Root Mean Squared Error (RMSE) : 0.3189\n",
      "     Mean Absolute Error (MAE) : 0.2812\n"
     ]
    },
    {
     "name": "stderr",
     "output_type": "stream",
     "text": [
      "/var/folders/db/g89vnvfj68l9dp9q6zz747zh0000gn/T/ipykernel_3731/3387528008.py:32: UserWarning: Matplotlib is currently using agg, which is a non-GUI backend, so cannot show the figure.\n",
      "  plt.show()\n"
     ]
    },
    {
     "data": {
      "image/png": "[encoded data removed]",
      "text/plain": [
       "<Figure size 432x288 with 2 Axes>"
      ]
     },
     "metadata": {
      "needs_background": "light"
     },
     "output_type": "display_data"
    }
   ],
   "source": [
    "# Both(stepwise regression)\n",
    "from dmba import stepwise_selection\n",
    "\n",
    "def train_model(variables):\n",
    "    if len(variables) == 0:\n",
    "         return None\n",
    "    model = LinearRegression()\n",
    "    model.fit(train_X[variables], train_y)\n",
    "    return model\n",
    "def score_model(model, variables):\n",
    "     if len(variables) == 0:\n",
    "        return AIC_score(train_y, [train_y.mean()] * len(train_y),model, df=1)\n",
    "     return AIC_score(train_y, model.predict(train_X[variables]), model)\n",
    "\n",
    "best_model, best_variables = stepwise_selection(train_X.columns, train_model, score_model, verbose=True)\n",
    "print(best_variables)\n",
    "# print performance measures (validation data)\n",
    "regressionSummary(valid_y, best_model.predict(valid_X[best_variables]))\n",
    "\n",
    "pred_v = pd.Series(best_model.predict(valid_X[best_variables]))\n",
    "pred_v = pred_v.sort_values(ascending=False)\n",
    "\n",
    "fig, axes = plt.subplots(nrows=1, ncols=2)\n",
    "ax = gainsChart(pred_v, ax=axes[0])\n",
    "ax.set_ylabel('Cumulative Value')\n",
    "ax.set_title('Cumulative Gains Chart')\n",
    "\n",
    "ax = liftChart(pred_v, ax=axes[1], labelBars=False)\n",
    "ax.set_ylabel('Lift')\n",
    "\n",
    "plt.tight_layout()\n",
    "plt.show()\n",
    "\n",
    "#stepwise also yields same results(predictor and regression statistics)\n",
    "#three regression methods show that tag_id is the most important predictor for depression score\n",
    "#all hold same statistics and lift chart\n",
    "#all three yield the same RMSE, therefore all are effective models\n",
    "#all three improved compared to regular multiple regression from part a, as the RMSE moved from 0.2940 to 0.3189"
   ]
  },
  {
   "cell_type": "code",
   "execution_count": 1367,
   "id": "4baac7e9",
   "metadata": {},
   "outputs": [
    {
     "name": "stdout",
     "output_type": "stream",
     "text": [
      "      Predictor   coefficient\n",
      "0       tag_0_0 -2.239917e-02\n",
      "1       tag_1_0 -7.013471e-01\n",
      "2       tag_2_0  4.043185e-01\n",
      "3       tag_3_0 -4.440892e-16\n",
      "4       tag_4_0  1.110223e-16\n",
      "5       tag_5_0  5.273559e-16\n",
      "6       tag_6_0 -2.324013e-02\n",
      "7       tag_7_0  0.000000e+00\n",
      "8       tag_8_0  0.000000e+00\n",
      "9       tag_9_0 -4.168492e-01\n",
      "10     tag_10_0  0.000000e+00\n",
      "11     tag_11_0  6.102884e-01\n",
      "12     tag_12_0  1.492287e-01\n",
      "13         step -2.012455e-05\n",
      "14  battery_low -9.034661e-03\n",
      "\n",
      "Regression statistics\n",
      "\n",
      "               Mean Error (ME) : 0.0000\n",
      "Root Mean Squared Error (RMSE) : 0.2596\n",
      "     Mean Absolute Error (MAE) : 0.2056\n",
      "0    0.108407\n",
      "1    0.108407\n",
      "2    0.130806\n",
      "3    0.130806\n",
      "4    0.130806\n",
      "dtype: float64\n"
     ]
    },
    {
     "name": "stderr",
     "output_type": "stream",
     "text": [
      "/Users/cynthiazapata/opt/anaconda3/lib/python3.9/site-packages/seaborn/distributions.py:2619: FutureWarning: `distplot` is a deprecated function and will be removed in a future version. Please adapt your code to use either `displot` (a figure-level function with similar flexibility) or `kdeplot` (an axes-level function for kernel density plots).\n",
      "  warnings.warn(msg, FutureWarning)\n",
      "/Users/cynthiazapata/opt/anaconda3/lib/python3.9/site-packages/seaborn/distributions.py:2619: FutureWarning: `distplot` is a deprecated function and will be removed in a future version. Please adapt your code to use either `displot` (a figure-level function with similar flexibility) or `kdeplot` (an axes-level function for kernel density plots).\n",
      "  warnings.warn(msg, FutureWarning)\n"
     ]
    },
    {
     "data": {
      "text/plain": [
       "<AxesSubplot:xlabel='depression_score', ylabel='Density'>"
      ]
     },
     "execution_count": 1367,
     "metadata": {},
     "output_type": "execute_result"
    },
    {
     "data": {
      "image/png": "[encoded data removed]",
      "text/plain": [
       "<Figure size 432x288 with 1 Axes>"
      ]
     },
     "metadata": {
      "needs_background": "light"
     },
     "output_type": "display_data"
    }
   ],
   "source": [
    "#predicting 495\n",
    "data495_df = data495_df.iloc[0:53]\n",
    "predictors = ['tag_0_0','tag_1_0','tag_2_0','tag_3_0','tag_4_0','tag_5_0','tag_6_0','tag_7_0','tag_8_0','tag_9_0','tag_10_0','tag_11_0','tag_12_0', 'step', 'battery_low']\n",
    "outcome = 'depression_score'\n",
    "\n",
    "# partition data 60% training 40% validation\n",
    "X = pd.get_dummies(data495_df[predictors], drop_first=True)\n",
    "y = user1_df[outcome]\n",
    "train_X, valid_X, train_y, valid_y = train_test_split(X, y, test_size=0.4, random_state=1)\n",
    "\n",
    "depression_lm = LinearRegression()\n",
    "depression_lm.fit(train_X, train_y)\n",
    "\n",
    "print(pd.DataFrame({'Predictor': X.columns, 'coefficient': depression_lm.coef_}))\n",
    "regressionSummary(train_y, depression_lm.predict(train_X))\n",
    "\n",
    "\n",
    "#the predicted depression score for this user is 0.1308, moderately severe- also shown in naive bayes below\n",
    "#the prediction error(RMSE) is 0.2596\n",
    "\n",
    "depression =  0.4278355158048195 + (-2.2399e-02*data496_df['tag_0_0']) + (-7.0135e-01*data496_df['tag_1_0']) + (4.0432e-01*data496_df['tag_2_0']) + (-4.4409e-16*data496_df['tag_3_0'])\n",
    "+ (1.1102e-16*data496_df['tag_4_0']) + (5.2736e-16*data496_df['tag_5_0']) + (-2.3240e-02*data496_df['tag_6_0']) + (0.0000e+00*data496_df['tag_7_0']) \n",
    "+ (0.0000e+00*data496_df['tag_8_0']) + (-4.1685e-01*data496_df['tag_9_0']) + (0.0000e+00*data496_df['tag_10_0']) + (6.1029e-01*data496_df['tag_11_0']) \n",
    "+  (1.4923e-01*data496_df['tag_12_0']) + (-2.0125e-05*data496_df['step']) + (-9.0347e-03*data496_df['battery_low'])\n",
    "print(depression.head())\n",
    "\n",
    "ax1 = sns.distplot(y, hist=False, color=\"r\", label=\"Actual Value\")\n",
    "sns.distplot(valid_y, hist=False, color=\"b\", label=\"Fitted Values\" , ax=ax1)"
   ]
  },
  {
   "cell_type": "code",
   "execution_count": 1368,
   "id": "6cc129d8",
   "metadata": {},
   "outputs": [
    {
     "name": "stdout",
     "output_type": "stream",
     "text": [
      "      Predictor   coefficient\n",
      "0       tag_0_0  1.718506e-02\n",
      "1       tag_1_0  1.701243e-14\n",
      "2       tag_2_0  3.567644e-01\n",
      "3       tag_3_0  0.000000e+00\n",
      "4       tag_4_0 -2.775558e-17\n",
      "5       tag_5_0  0.000000e+00\n",
      "6       tag_6_0  0.000000e+00\n",
      "7       tag_7_0  0.000000e+00\n",
      "8       tag_8_0  0.000000e+00\n",
      "9       tag_9_0 -4.095791e-02\n",
      "10     tag_10_0 -2.927913e-01\n",
      "11     tag_11_0 -4.020022e-02\n",
      "12     tag_12_0  0.000000e+00\n",
      "13         step -5.638785e-05\n",
      "14  battery_low  2.707849e-03\n",
      "\n",
      "Regression statistics\n",
      "\n",
      "               Mean Error (ME) : 0.0000\n",
      "Root Mean Squared Error (RMSE) : 0.2823\n",
      "     Mean Absolute Error (MAE) : 0.2297\n",
      "0    0.801781\n",
      "1    0.801781\n",
      "2    0.784596\n",
      "3    0.784596\n",
      "4    0.784596\n",
      "dtype: float64\n"
     ]
    },
    {
     "name": "stderr",
     "output_type": "stream",
     "text": [
      "/Users/cynthiazapata/opt/anaconda3/lib/python3.9/site-packages/seaborn/distributions.py:2619: FutureWarning: `distplot` is a deprecated function and will be removed in a future version. Please adapt your code to use either `displot` (a figure-level function with similar flexibility) or `kdeplot` (an axes-level function for kernel density plots).\n",
      "  warnings.warn(msg, FutureWarning)\n",
      "/Users/cynthiazapata/opt/anaconda3/lib/python3.9/site-packages/seaborn/distributions.py:2619: FutureWarning: `distplot` is a deprecated function and will be removed in a future version. Please adapt your code to use either `displot` (a figure-level function with similar flexibility) or `kdeplot` (an axes-level function for kernel density plots).\n",
      "  warnings.warn(msg, FutureWarning)\n"
     ]
    },
    {
     "data": {
      "text/plain": [
       "<AxesSubplot:xlabel='depression_score', ylabel='Density'>"
      ]
     },
     "execution_count": 1368,
     "metadata": {},
     "output_type": "execute_result"
    },
    {
     "data": {
      "image/png": "[encoded data removed]",
      "text/plain": [
       "<Figure size 432x288 with 1 Axes>"
      ]
     },
     "metadata": {
      "needs_background": "light"
     },
     "output_type": "display_data"
    }
   ],
   "source": [
    "#predicting 496\n",
    "data496_df = data496_df.iloc[0:53]\n",
    "predictors = ['tag_0_0','tag_1_0','tag_2_0','tag_3_0','tag_4_0','tag_5_0','tag_6_0','tag_7_0','tag_8_0','tag_9_0','tag_10_0','tag_11_0','tag_12_0', 'step', 'battery_low']\n",
    "outcome = 'depression_score'\n",
    "\n",
    "# partition data 60% training 40% validation\n",
    "X = pd.get_dummies(data496_df[predictors], drop_first=True)\n",
    "y = user1_df[outcome]\n",
    "train_X, valid_X, train_y, valid_y = train_test_split(X, y, test_size=0.4, random_state=1)\n",
    "\n",
    "depression_lm = LinearRegression()\n",
    "depression_lm.fit(train_X, train_y)\n",
    "\n",
    "print(pd.DataFrame({'Predictor': X.columns, 'coefficient': depression_lm.coef_}))\n",
    "regressionSummary(train_y, depression_lm.predict(train_X))\n",
    "\n",
    "depression =  0.4278355158048195 + (1.7185e-02*data496_df['tag_0_0']) + (1.7012e-14*data496_df['tag_1_0']) + (3.5676e-01*data496_df['tag_2_0'])+ (0.0000e+00*data496_df['tag_3_0'])\n",
    "+ (-2.7756e-17*data496_df['tag_4_0']) + (0.0000e+00*data496_df['tag_5_0']) + (0.0000e+00*data496_df['tag_6_0']) + (0.0000e+00*data496_df['tag_7_0']) \n",
    "+ (0.0000e+00*data496_df['tag_8_0']) + (-4.0958e-02*data496_df['tag_9_0']) + (-2.9279e-01*data496_df['tag_10_0']) + (-4.0200e-02*data496_df['tag_11_0']) \n",
    "+  (0.0000e+00*data496_df['tag_12_0']) + (-5.6388e-05*data496_df['step']) + (2.7078e-03*data496_df['battery_low'])\n",
    "print(depression.head())\n",
    "\n",
    "ax1 = sns.distplot(y, hist=False, color=\"r\", label=\"Actual Value\")\n",
    "sns.distplot(train_y, hist=False, color=\"b\", label=\"Fitted Values\" , ax=ax1)\n",
    "#the depression score is 0.7846\n",
    "#the prediction error(RMSE) is 0.2823"
   ]
  },
  {
   "cell_type": "code",
   "execution_count": 1369,
   "id": "3ee3966c",
   "metadata": {},
   "outputs": [
    {
     "data": {
      "text/html": [
       "<div>\n",
       "<style scoped>\n",
       "    .dataframe tbody tr th:only-of-type {\n",
       "        vertical-align: middle;\n",
       "    }\n",
       "\n",
       "    .dataframe tbody tr th {\n",
       "        vertical-align: top;\n",
       "    }\n",
       "\n",
       "    .dataframe thead th {\n",
       "        text-align: right;\n",
       "    }\n",
       "</style>\n",
       "<table border=\"1\" class=\"dataframe\">\n",
       "  <thead>\n",
       "    <tr style=\"text-align: right;\">\n",
       "      <th></th>\n",
       "      <th>Unnamed: 0</th>\n",
       "      <th>uplink_id</th>\n",
       "      <th>id</th>\n",
       "      <th>client_time</th>\n",
       "      <th>tag_id</th>\n",
       "      <th>step</th>\n",
       "      <th>battery_low</th>\n",
       "      <th>is_charge</th>\n",
       "      <th>tag_battery_low</th>\n",
       "      <th>client time</th>\n",
       "      <th>birth year</th>\n",
       "      <th>age</th>\n",
       "      <th>sex</th>\n",
       "      <th>etc</th>\n",
       "      <th>depression_score</th>\n",
       "      <th>depression_class</th>\n",
       "    </tr>\n",
       "  </thead>\n",
       "  <tbody>\n",
       "    <tr>\n",
       "      <th>20</th>\n",
       "      <td>70</td>\n",
       "      <td>50914</td>\n",
       "      <td>230</td>\n",
       "      <td>2019-12-02 12:29:59</td>\n",
       "      <td>0</td>\n",
       "      <td>1084</td>\n",
       "      <td>92</td>\n",
       "      <td>0</td>\n",
       "      <td>0</td>\n",
       "      <td>2019-12-02 12:29:59</td>\n",
       "      <td>1950</td>\n",
       "      <td>72</td>\n",
       "      <td>F</td>\n",
       "      <td>Not applicable</td>\n",
       "      <td>0.125</td>\n",
       "      <td>Normal</td>\n",
       "    </tr>\n",
       "    <tr>\n",
       "      <th>29</th>\n",
       "      <td>79</td>\n",
       "      <td>51185</td>\n",
       "      <td>230</td>\n",
       "      <td>2019-12-02 15:09:59</td>\n",
       "      <td>0</td>\n",
       "      <td>5671</td>\n",
       "      <td>84</td>\n",
       "      <td>0</td>\n",
       "      <td>0</td>\n",
       "      <td>2019-12-02 15:09:59</td>\n",
       "      <td>1950</td>\n",
       "      <td>72</td>\n",
       "      <td>F</td>\n",
       "      <td>Not applicable</td>\n",
       "      <td>0.125</td>\n",
       "      <td>Normal</td>\n",
       "    </tr>\n",
       "    <tr>\n",
       "      <th>27</th>\n",
       "      <td>77</td>\n",
       "      <td>51116</td>\n",
       "      <td>230</td>\n",
       "      <td>2019-12-02 14:29:58</td>\n",
       "      <td>0</td>\n",
       "      <td>4743</td>\n",
       "      <td>86</td>\n",
       "      <td>0</td>\n",
       "      <td>0</td>\n",
       "      <td>2019-12-02 14:29:58</td>\n",
       "      <td>1950</td>\n",
       "      <td>72</td>\n",
       "      <td>F</td>\n",
       "      <td>Not applicable</td>\n",
       "      <td>0.125</td>\n",
       "      <td>Normal</td>\n",
       "    </tr>\n",
       "    <tr>\n",
       "      <th>17</th>\n",
       "      <td>67</td>\n",
       "      <td>50854</td>\n",
       "      <td>230</td>\n",
       "      <td>2019-12-02 11:35:10</td>\n",
       "      <td>5</td>\n",
       "      <td>654</td>\n",
       "      <td>94</td>\n",
       "      <td>0</td>\n",
       "      <td>0</td>\n",
       "      <td>2019-12-02 11:35:10</td>\n",
       "      <td>1950</td>\n",
       "      <td>72</td>\n",
       "      <td>F</td>\n",
       "      <td>Not applicable</td>\n",
       "      <td>0.125</td>\n",
       "      <td>Normal</td>\n",
       "    </tr>\n",
       "    <tr>\n",
       "      <th>5</th>\n",
       "      <td>26</td>\n",
       "      <td>367073</td>\n",
       "      <td>230</td>\n",
       "      <td>1970-01-01 00:00:00</td>\n",
       "      <td>0</td>\n",
       "      <td>1552</td>\n",
       "      <td>81</td>\n",
       "      <td>0</td>\n",
       "      <td>0</td>\n",
       "      <td>1970-01-01 00:00:00</td>\n",
       "      <td>1950</td>\n",
       "      <td>72</td>\n",
       "      <td>F</td>\n",
       "      <td>Not applicable</td>\n",
       "      <td>0.125</td>\n",
       "      <td>Normal</td>\n",
       "    </tr>\n",
       "    <tr>\n",
       "      <th>25</th>\n",
       "      <td>75</td>\n",
       "      <td>50993</td>\n",
       "      <td>230</td>\n",
       "      <td>2019-12-02 14:10:00</td>\n",
       "      <td>0</td>\n",
       "      <td>3583</td>\n",
       "      <td>88</td>\n",
       "      <td>0</td>\n",
       "      <td>0</td>\n",
       "      <td>2019-12-02 14:10:00</td>\n",
       "      <td>1950</td>\n",
       "      <td>72</td>\n",
       "      <td>F</td>\n",
       "      <td>Not applicable</td>\n",
       "      <td>0.125</td>\n",
       "      <td>Normal</td>\n",
       "    </tr>\n",
       "    <tr>\n",
       "      <th>24</th>\n",
       "      <td>74</td>\n",
       "      <td>50978</td>\n",
       "      <td>230</td>\n",
       "      <td>2019-12-02 13:59:58</td>\n",
       "      <td>0</td>\n",
       "      <td>3152</td>\n",
       "      <td>88</td>\n",
       "      <td>0</td>\n",
       "      <td>0</td>\n",
       "      <td>2019-12-02 13:59:58</td>\n",
       "      <td>1950</td>\n",
       "      <td>72</td>\n",
       "      <td>F</td>\n",
       "      <td>Not applicable</td>\n",
       "      <td>0.125</td>\n",
       "      <td>Normal</td>\n",
       "    </tr>\n",
       "    <tr>\n",
       "      <th>21</th>\n",
       "      <td>71</td>\n",
       "      <td>50923</td>\n",
       "      <td>230</td>\n",
       "      <td>2019-12-02 12:40:01</td>\n",
       "      <td>0</td>\n",
       "      <td>1186</td>\n",
       "      <td>92</td>\n",
       "      <td>0</td>\n",
       "      <td>0</td>\n",
       "      <td>2019-12-02 12:40:01</td>\n",
       "      <td>1950</td>\n",
       "      <td>72</td>\n",
       "      <td>F</td>\n",
       "      <td>Not applicable</td>\n",
       "      <td>0.125</td>\n",
       "      <td>Normal</td>\n",
       "    </tr>\n",
       "    <tr>\n",
       "      <th>13</th>\n",
       "      <td>63</td>\n",
       "      <td>50840</td>\n",
       "      <td>230</td>\n",
       "      <td>2019-12-02 11:28:53</td>\n",
       "      <td>4</td>\n",
       "      <td>605</td>\n",
       "      <td>95</td>\n",
       "      <td>0</td>\n",
       "      <td>0</td>\n",
       "      <td>2019-12-02 11:28:53</td>\n",
       "      <td>1950</td>\n",
       "      <td>72</td>\n",
       "      <td>F</td>\n",
       "      <td>Not applicable</td>\n",
       "      <td>0.125</td>\n",
       "      <td>Normal</td>\n",
       "    </tr>\n",
       "    <tr>\n",
       "      <th>30</th>\n",
       "      <td>80</td>\n",
       "      <td>51204</td>\n",
       "      <td>230</td>\n",
       "      <td>2019-12-02 15:39:59</td>\n",
       "      <td>0</td>\n",
       "      <td>6534</td>\n",
       "      <td>83</td>\n",
       "      <td>0</td>\n",
       "      <td>0</td>\n",
       "      <td>2019-12-02 15:39:59</td>\n",
       "      <td>1950</td>\n",
       "      <td>72</td>\n",
       "      <td>F</td>\n",
       "      <td>Not applicable</td>\n",
       "      <td>0.125</td>\n",
       "      <td>Normal</td>\n",
       "    </tr>\n",
       "  </tbody>\n",
       "</table>\n",
       "</div>"
      ],
      "text/plain": [
       "    Unnamed: 0  uplink_id   id          client_time  tag_id  step  \\\n",
       "20          70      50914  230  2019-12-02 12:29:59       0  1084   \n",
       "29          79      51185  230  2019-12-02 15:09:59       0  5671   \n",
       "27          77      51116  230  2019-12-02 14:29:58       0  4743   \n",
       "17          67      50854  230  2019-12-02 11:35:10       5   654   \n",
       "5           26     367073  230  1970-01-01 00:00:00       0  1552   \n",
       "25          75      50993  230  2019-12-02 14:10:00       0  3583   \n",
       "24          74      50978  230  2019-12-02 13:59:58       0  3152   \n",
       "21          71      50923  230  2019-12-02 12:40:01       0  1186   \n",
       "13          63      50840  230  2019-12-02 11:28:53       4   605   \n",
       "30          80      51204  230  2019-12-02 15:39:59       0  6534   \n",
       "\n",
       "    battery_low  is_charge  tag_battery_low         client time  birth year  \\\n",
       "20           92          0                0 2019-12-02 12:29:59        1950   \n",
       "29           84          0                0 2019-12-02 15:09:59        1950   \n",
       "27           86          0                0 2019-12-02 14:29:58        1950   \n",
       "17           94          0                0 2019-12-02 11:35:10        1950   \n",
       "5            81          0                0 1970-01-01 00:00:00        1950   \n",
       "25           88          0                0 2019-12-02 14:10:00        1950   \n",
       "24           88          0                0 2019-12-02 13:59:58        1950   \n",
       "21           92          0                0 2019-12-02 12:40:01        1950   \n",
       "13           95          0                0 2019-12-02 11:28:53        1950   \n",
       "30           83          0                0 2019-12-02 15:39:59        1950   \n",
       "\n",
       "    age sex             etc  depression_score depression_class  \n",
       "20   72   F  Not applicable             0.125           Normal  \n",
       "29   72   F  Not applicable             0.125           Normal  \n",
       "27   72   F  Not applicable             0.125           Normal  \n",
       "17   72   F  Not applicable             0.125           Normal  \n",
       "5    72   F  Not applicable             0.125           Normal  \n",
       "25   72   F  Not applicable             0.125           Normal  \n",
       "24   72   F  Not applicable             0.125           Normal  \n",
       "21   72   F  Not applicable             0.125           Normal  \n",
       "13   72   F  Not applicable             0.125           Normal  \n",
       "30   72   F  Not applicable             0.125           Normal  "
      ]
     },
     "execution_count": 1369,
     "metadata": {},
     "output_type": "execute_result"
    }
   ],
   "source": [
    "#merge csv files and rename columns\n",
    "device_df.rename(columns = {'owner_id':'id', 'age':'age'}, inplace = True) #rename column\n",
    "allUsers_df = device_df.merge(user1_df, on = 'id')\n",
    "allUsers_df.sample(10)"
   ]
  },
  {
   "cell_type": "code",
   "execution_count": 1370,
   "id": "f923556b",
   "metadata": {},
   "outputs": [
    {
     "name": "stdout",
     "output_type": "stream",
     "text": [
      "Variables: tag_0_0, tag_1_0, tag_2_0, tag_3_0, tag_4_0, tag_5_0, tag_6_0, tag_7_0, tag_8_0, tag_9_0, tag_10_0, tag_11_0, tag_12_0, step, battery_low\n",
      "Start: score=43.56\n",
      "Step: score=41.56, remove tag_0_0\n",
      "Step: score=39.56, remove tag_3_0\n",
      "Step: score=37.56, remove tag_4_0\n",
      "Step: score=35.56, remove tag_1_0\n",
      "Step: score=33.56, remove tag_12_0\n",
      "Step: score=31.56, remove tag_5_0\n",
      "Step: score=29.56, remove tag_6_0\n",
      "Step: score=27.56, remove tag_7_0\n",
      "Step: score=25.56, remove tag_8_0\n",
      "Step: score=23.60, remove tag_11_0\n",
      "Step: score=21.70, remove tag_9_0\n",
      "Step: score=20.27, remove battery_low\n",
      "Step: score=18.96, remove step\n",
      "Step: score=18.64, remove tag_10_0\n",
      "['tag_2_0']\n",
      "\n",
      "Regression statistics\n",
      "\n",
      "               Mean Error (ME) : -0.1098\n",
      "Root Mean Squared Error (RMSE) : 0.3348\n",
      "     Mean Absolute Error (MAE) : 0.2879\n"
     ]
    },
    {
     "name": "stderr",
     "output_type": "stream",
     "text": [
      "/var/folders/db/g89vnvfj68l9dp9q6zz747zh0000gn/T/ipykernel_3731/178878256.py:27: UserWarning: Matplotlib is currently using agg, which is a non-GUI backend, so cannot show the figure.\n",
      "  plt.show()\n"
     ]
    },
    {
     "data": {
      "image/png": "[encoded data removed]",
      "text/plain": [
       "<Figure size 432x288 with 2 Axes>"
      ]
     },
     "metadata": {
      "needs_background": "light"
     },
     "output_type": "display_data"
    }
   ],
   "source": [
    "# Backward Regression (Part C)\n",
    "from dmba import backward_elimination\n",
    "\n",
    "def score_model(model, variables):\n",
    "     return AIC_score(train_y, model.predict(train_X[variables]), model)\n",
    "allVariables = train_X.columns\n",
    "best_model, best_variables = backward_elimination(allVariables, train_model, score_model, verbose=True)\n",
    "print(best_variables)\n",
    "\n",
    "# print performance measures (validation data)\n",
    "regressionSummary(valid_y, best_model.predict(valid_X[best_variables]))\n",
    "\n",
    "#Backward and forward regression have same regression summary(results) and predictor(tag_id) as best variable\n",
    "\n",
    "pred_v = pd.Series(best_model.predict(valid_X[best_variables]))\n",
    "pred_v = pred_v.sort_values(ascending=False)\n",
    "\n",
    "fig, axes = plt.subplots(nrows=1, ncols=2)\n",
    "ax = gainsChart(pred_v, ax=axes[0])\n",
    "ax.set_ylabel('Cumulative Value')\n",
    "ax.set_title('Cumulative Gains Chart')\n",
    "\n",
    "ax = liftChart(pred_v, ax=axes[1], labelBars=False)\n",
    "ax.set_ylabel('Lift')\n",
    "\n",
    "plt.tight_layout()\n",
    "plt.show()"
   ]
  },
  {
   "cell_type": "code",
   "execution_count": 1371,
   "id": "4c87c392",
   "metadata": {},
   "outputs": [],
   "source": [
    "#naive bayes classifier with depression class as outcome\n",
    "import pandas as pd\n",
    "from sklearn.model_selection import train_test_split\n",
    "from sklearn.naive_bayes import MultinomialNB\n",
    "import matplotlib.pylab as plt \n",
    "from dmba import classificationSummary, gainsChart\n",
    "\n",
    "#categorize predictors\n",
    "allUsers_df.step = allUsers_df.step.astype('category')\n",
    "allUsers_df['step'] = allUsers_df['step'].astype('category')\n",
    "allUsers_df.battery_low = allUsers_df.battery_low.astype('category')\n",
    "allUsers_df['battery_low'] = allUsers_df['battery_low'].astype('category')\n",
    "allUsers_df.id = allUsers_df.id.astype('category')\n",
    "allUsers_df['id'] = allUsers_df['id'].astype('category')\n",
    "\n",
    "predictors = ['step', 'id', 'battery_low']\n",
    "outcome = 'depression_class'\n",
    "\n",
    "x = pd.get_dummies(allUsers_df[predictors])\n",
    "y = allUsers_df['depression_class'].astype('category')\n",
    "classes = list(y.cat.categories)\n",
    "\n"
   ]
  },
  {
   "cell_type": "code",
   "execution_count": 1372,
   "id": "26e5a486",
   "metadata": {},
   "outputs": [],
   "source": [
    "\n",
    "#split into training and validation\n",
    "X_train, X_valid, y_train, y_valid = train_test_split(X, y, test_size=0.40, random_state=1) \n",
    " # run naive Bayes\n",
    "allUsers_nb = MultinomialNB(alpha=0.01)\n",
    "allUsers_nb.fit(X_train, y_train)\n",
    "\n",
    "# predict probabilities\n",
    "predProb_train = allUsers_nb.predict_proba(X_train)\n",
    "predProb_valid = allUsers_nb.predict_proba(X_valid)\n",
    "\n",
    "# predict class membership\n",
    "y_valid_pred = allUsers_nb.predict(X_valid)\n",
    "\n"
   ]
  },
  {
   "cell_type": "code",
   "execution_count": 1373,
   "id": "40ee0e7e",
   "metadata": {},
   "outputs": [
    {
     "name": "stdout",
     "output_type": "stream",
     "text": [
      "Normal               0.9032\n",
      "Moderate             0.0645\n",
      "Moderately severe    0.0323\n",
      "Name: depression_class, dtype: float64\n",
      "\n",
      "step                 421    441    448    472    489    511    523    574  \\\n",
      "depression_class                                                            \n",
      "Moderate             NaN    NaN    NaN    NaN    NaN  0.129    NaN    NaN   \n",
      "Moderately severe    NaN    NaN    NaN    NaN    NaN    NaN    NaN    NaN   \n",
      "Normal             0.129  0.129  0.129  0.129  0.129    NaN  0.129  0.129   \n",
      "\n",
      "step                 615    623  ...   6563   8047   8840  10408  11004  \\\n",
      "depression_class                 ...                                      \n",
      "Moderate             NaN    NaN  ...    NaN    NaN  0.129    NaN    NaN   \n",
      "Moderately severe    NaN    NaN  ...  0.129    NaN    NaN    NaN    NaN   \n",
      "Normal             0.129  0.129  ...    NaN  0.129    NaN  0.129  0.129   \n",
      "\n",
      "step               13117  13271  13272  14853  15244  \n",
      "depression_class                                      \n",
      "Moderate             NaN    NaN    NaN    NaN    NaN  \n",
      "Moderately severe    NaN    NaN    NaN    NaN    NaN  \n",
      "Normal             0.129  0.129  0.129  0.129  0.129  \n",
      "\n",
      "[3 rows x 31 columns]\n",
      "\n",
      "id                    230    486    496    504     544    547    665\n",
      "depression_class                                                    \n",
      "Moderate              NaN  0.129    NaN  0.129     NaN    NaN    NaN\n",
      "Moderately severe     NaN    NaN  0.129    NaN     NaN    NaN    NaN\n",
      "Normal             3.0968    NaN    NaN    NaN  0.2581  0.129  0.129\n",
      "\n",
      "battery_low            8     37     53     75     78     80     81     83  \\\n",
      "depression_class                                                            \n",
      "Moderate             NaN    NaN  0.129    NaN    NaN    NaN    NaN    NaN   \n",
      "Moderately severe    NaN    NaN    NaN    NaN    NaN    NaN    NaN    NaN   \n",
      "Normal             0.129  0.129    NaN  0.129  0.129  0.129  0.129  0.129   \n",
      "\n",
      "battery_low           84     85  ...      88     89     90     92     94  \\\n",
      "depression_class                 ...                                       \n",
      "Moderate             NaN    NaN  ...  0.1290    NaN    NaN    NaN    NaN   \n",
      "Moderately severe    NaN  0.129  ...     NaN    NaN    NaN    NaN    NaN   \n",
      "Normal             0.129  0.129  ...  0.2581  0.129  0.129  0.129  0.129   \n",
      "\n",
      "battery_low            95     96      97      98      99  \n",
      "depression_class                                          \n",
      "Moderate              NaN    NaN     NaN     NaN     NaN  \n",
      "Moderately severe     NaN    NaN     NaN     NaN     NaN  \n",
      "Normal             0.3871  0.129  0.2581  0.3871  0.2581  \n",
      "\n",
      "[3 rows x 21 columns]\n",
      "\n"
     ]
    }
   ],
   "source": [
    "# split the original data frame into a train and test using the same random_state\n",
    "train_df,valid_df = train_test_split(allUsers_df, test_size=0.4, random_state=1)\n",
    "\n",
    "pd.set_option('precision', 4)\n",
    "# probability of depression_class\n",
    "\n",
    "probability = train_df['depression_class'].value_counts() / len(train_df)\n",
    "print(probability)\n",
    "#len(train_df)\n",
    "print()\n",
    "\n",
    "for predictor in predictors:\n",
    "    # construct the frequency table\n",
    "    df = train_df[['depression_class', predictor]]\n",
    "    freqTable = df.pivot_table(index='depression_class', columns=predictor, aggfunc=len)\n",
    "\n",
    "    # divide each value by the sum of the row to get conditional probabilities\n",
    "    propTable = freqTable.apply(lambda x: x / allUsers_df.depression_score.sum(), axis=1)\n",
    "    print(propTable)\n",
    "    print()\n",
    "pd.reset_option('precision')\n"
   ]
  },
  {
   "cell_type": "code",
   "execution_count": 1374,
   "id": "84a83a95",
   "metadata": {},
   "outputs": [
    {
     "name": "stdout",
     "output_type": "stream",
     "text": [
      "Confusion Matrix (Accuracy 0.0377)\n",
      "\n",
      "                  Prediction\n",
      "           Actual          Moderate Moderately severe            Normal\n",
      "         Moderate                 2                 0                 0\n",
      "Moderately severe                 2                 0                 0\n",
      "           Normal                49                 0                 0\n"
     ]
    }
   ],
   "source": [
    "## cutoff = 0.9032\n",
    "predicted = ['Normal' if p >= .9032 else 'Moderate' for p in allUsers_df.depression_score]\n",
    "classificationSummary(allUsers_df.depression_class, predicted, ['Moderate', 'Moderately severe', 'Normal'])"
   ]
  },
  {
   "cell_type": "code",
   "execution_count": 1375,
   "id": "c4dc2ab9",
   "metadata": {},
   "outputs": [
    {
     "name": "stdout",
     "output_type": "stream",
     "text": [
      "Confusion Matrix (Accuracy 0.0377)\n",
      "\n",
      "                  Prediction\n",
      "           Actual          Moderate Moderately severe            Normal\n",
      "         Moderate                 2                 0                 0\n",
      "Moderately severe                 2                 0                 0\n",
      "           Normal                 0                 0                 0\n"
     ]
    }
   ],
   "source": [
    "## cutoff = 0.0645\n",
    "predicted = ['Moderate' if p >= 0.0645 else 'Moderately sevevre' for p in allUsers_df.depression_score]\n",
    "classificationSummary(allUsers_df.depression_class, predicted, ['Moderate', 'Moderately severe', 'Normal'])"
   ]
  },
  {
   "cell_type": "code",
   "execution_count": 1376,
   "id": "867da509",
   "metadata": {},
   "outputs": [
    {
     "name": "stdout",
     "output_type": "stream",
     "text": [
      "Confusion Matrix (Accuracy 0.0377)\n",
      "\n",
      "                  Prediction\n",
      "           Actual          Moderate Moderately severe            Normal\n",
      "         Moderate                 0                 2                 0\n",
      "Moderately severe                 0                 2                 0\n",
      "           Normal                 0                 0                 0\n"
     ]
    }
   ],
   "source": [
    "## cutoff = .0323\n",
    "predicted = ['Moderately severe' if p >= 0.0323 else 'None' for p in allUsers_df.depression_score]\n",
    "classificationSummary(allUsers_df.depression_class, predicted, ['Moderate', 'Moderately severe', 'Normal'])"
   ]
  },
  {
   "cell_type": "code",
   "execution_count": 1377,
   "id": "b19cca64",
   "metadata": {},
   "outputs": [
    {
     "name": "stderr",
     "output_type": "stream",
     "text": [
      "/var/folders/db/g89vnvfj68l9dp9q6zz747zh0000gn/T/ipykernel_3731/62658708.py:12: UserWarning: Matplotlib is currently using agg, which is a non-GUI backend, so cannot show the figure.\n",
      "  plt.show()\n"
     ]
    },
    {
     "data": {
      "image/png": "[encoded data removed]",
      "text/plain": [
       "<Figure size 432x288 with 1 Axes>"
      ]
     },
     "metadata": {
      "needs_background": "light"
     },
     "output_type": "display_data"
    }
   ],
   "source": [
    "cutoffs = [i * 0.1 for i in range(0, 11)]\n",
    "accT = []\n",
    "for cutoff in cutoffs:\n",
    "    predicted = [1 if p > cutoff else 0 for p in probability]\n",
    "    accT.append(accuracy_score(y_valid, y_valid_pred))\n",
    "\n",
    "line_accuracy = plt.plot(cutoffs, accT, '-', label='Accuracy')[0]\n",
    "line_error = plt.plot(cutoffs, [1 - acc for acc in accT], '--', label='Overall error')[0]\n",
    "plt.ylim([0,1])\n",
    "plt.xlabel('Cutoff Value')\n",
    "plt.legend(handles=[line_accuracy, line_error])\n",
    "plt.show()"
   ]
  },
  {
   "cell_type": "code",
   "execution_count": 1378,
   "id": "4b9880cd",
   "metadata": {},
   "outputs": [
    {
     "ename": "UFuncTypeError",
     "evalue": "ufunc 'subtract' did not contain a loop with signature matching types (dtype('<U17'), dtype('<U17')) -> dtype('<U17')",
     "output_type": "error",
     "traceback": [
      "\u001b[0;31m---------------------------------------------------------------------------\u001b[0m",
      "\u001b[0;31mUFuncTypeError\u001b[0m                            Traceback (most recent call last)",
      "\u001b[0;32m/var/folders/db/g89vnvfj68l9dp9q6zz747zh0000gn/T/ipykernel_3731/2996704188.py\u001b[0m in \u001b[0;36m<module>\u001b[0;34m\u001b[0m\n\u001b[1;32m      1\u001b[0m \u001b[0;32mfrom\u001b[0m \u001b[0msklearn\u001b[0m\u001b[0;34m.\u001b[0m\u001b[0mmetrics\u001b[0m \u001b[0;32mimport\u001b[0m \u001b[0mroc_curve\u001b[0m\u001b[0;34m,\u001b[0m \u001b[0mauc\u001b[0m\u001b[0;34m\u001b[0m\u001b[0;34m\u001b[0m\u001b[0m\n\u001b[1;32m      2\u001b[0m \u001b[0;31m# compute ROC curve and AUC for specificity and sensitivity\u001b[0m\u001b[0;34m\u001b[0m\u001b[0;34m\u001b[0m\u001b[0m\n\u001b[0;32m----> 3\u001b[0;31m \u001b[0mfpr\u001b[0m\u001b[0;34m,\u001b[0m \u001b[0mtpr\u001b[0m\u001b[0;34m,\u001b[0m \u001b[0m_\u001b[0m \u001b[0;34m=\u001b[0m \u001b[0mroc_curve\u001b[0m\u001b[0;34m(\u001b[0m\u001b[0my_valid\u001b[0m\u001b[0;34m,\u001b[0m \u001b[0my_valid_pred\u001b[0m\u001b[0;34m,\u001b[0m \u001b[0mpos_label\u001b[0m\u001b[0;34m=\u001b[0m\u001b[0;36m1\u001b[0m\u001b[0;34m)\u001b[0m\u001b[0;34m\u001b[0m\u001b[0;34m\u001b[0m\u001b[0m\n\u001b[0m\u001b[1;32m      4\u001b[0m \u001b[0mroc_auc\u001b[0m \u001b[0;34m=\u001b[0m \u001b[0mauc\u001b[0m\u001b[0;34m(\u001b[0m\u001b[0mfpr\u001b[0m\u001b[0;34m,\u001b[0m \u001b[0mtpr\u001b[0m\u001b[0;34m)\u001b[0m\u001b[0;34m\u001b[0m\u001b[0;34m\u001b[0m\u001b[0m\n\u001b[1;32m      5\u001b[0m \u001b[0;34m\u001b[0m\u001b[0m\n",
      "\u001b[0;32m~/opt/anaconda3/lib/python3.9/site-packages/sklearn/utils/validation.py\u001b[0m in \u001b[0;36minner_f\u001b[0;34m(*args, **kwargs)\u001b[0m\n\u001b[1;32m     61\u001b[0m             \u001b[0mextra_args\u001b[0m \u001b[0;34m=\u001b[0m \u001b[0mlen\u001b[0m\u001b[0;34m(\u001b[0m\u001b[0margs\u001b[0m\u001b[0;34m)\u001b[0m \u001b[0;34m-\u001b[0m \u001b[0mlen\u001b[0m\u001b[0;34m(\u001b[0m\u001b[0mall_args\u001b[0m\u001b[0;34m)\u001b[0m\u001b[0;34m\u001b[0m\u001b[0;34m\u001b[0m\u001b[0m\n\u001b[1;32m     62\u001b[0m             \u001b[0;32mif\u001b[0m \u001b[0mextra_args\u001b[0m \u001b[0;34m<=\u001b[0m \u001b[0;36m0\u001b[0m\u001b[0;34m:\u001b[0m\u001b[0;34m\u001b[0m\u001b[0;34m\u001b[0m\u001b[0m\n\u001b[0;32m---> 63\u001b[0;31m                 \u001b[0;32mreturn\u001b[0m \u001b[0mf\u001b[0m\u001b[0;34m(\u001b[0m\u001b[0;34m*\u001b[0m\u001b[0margs\u001b[0m\u001b[0;34m,\u001b[0m \u001b[0;34m**\u001b[0m\u001b[0mkwargs\u001b[0m\u001b[0;34m)\u001b[0m\u001b[0;34m\u001b[0m\u001b[0;34m\u001b[0m\u001b[0m\n\u001b[0m\u001b[1;32m     64\u001b[0m \u001b[0;34m\u001b[0m\u001b[0m\n\u001b[1;32m     65\u001b[0m             \u001b[0;31m# extra_args > 0\u001b[0m\u001b[0;34m\u001b[0m\u001b[0;34m\u001b[0m\u001b[0m\n",
      "\u001b[0;32m~/opt/anaconda3/lib/python3.9/site-packages/sklearn/metrics/_ranking.py\u001b[0m in \u001b[0;36mroc_curve\u001b[0;34m(y_true, y_score, pos_label, sample_weight, drop_intermediate)\u001b[0m\n\u001b[1;32m    911\u001b[0m \u001b[0;34m\u001b[0m\u001b[0m\n\u001b[1;32m    912\u001b[0m     \"\"\"\n\u001b[0;32m--> 913\u001b[0;31m     fps, tps, thresholds = _binary_clf_curve(\n\u001b[0m\u001b[1;32m    914\u001b[0m         y_true, y_score, pos_label=pos_label, sample_weight=sample_weight)\n\u001b[1;32m    915\u001b[0m \u001b[0;34m\u001b[0m\u001b[0m\n",
      "\u001b[0;32m~/opt/anaconda3/lib/python3.9/site-packages/sklearn/metrics/_ranking.py\u001b[0m in \u001b[0;36m_binary_clf_curve\u001b[0;34m(y_true, y_score, pos_label, sample_weight)\u001b[0m\n\u001b[1;32m    717\u001b[0m     \u001b[0;31m# the indices associated with the distinct values. We also\u001b[0m\u001b[0;34m\u001b[0m\u001b[0;34m\u001b[0m\u001b[0m\n\u001b[1;32m    718\u001b[0m     \u001b[0;31m# concatenate a value for the end of the curve.\u001b[0m\u001b[0;34m\u001b[0m\u001b[0;34m\u001b[0m\u001b[0m\n\u001b[0;32m--> 719\u001b[0;31m     \u001b[0mdistinct_value_indices\u001b[0m \u001b[0;34m=\u001b[0m \u001b[0mnp\u001b[0m\u001b[0;34m.\u001b[0m\u001b[0mwhere\u001b[0m\u001b[0;34m(\u001b[0m\u001b[0mnp\u001b[0m\u001b[0;34m.\u001b[0m\u001b[0mdiff\u001b[0m\u001b[0;34m(\u001b[0m\u001b[0my_score\u001b[0m\u001b[0;34m)\u001b[0m\u001b[0;34m)\u001b[0m\u001b[0;34m[\u001b[0m\u001b[0;36m0\u001b[0m\u001b[0;34m]\u001b[0m\u001b[0;34m\u001b[0m\u001b[0;34m\u001b[0m\u001b[0m\n\u001b[0m\u001b[1;32m    720\u001b[0m     \u001b[0mthreshold_idxs\u001b[0m \u001b[0;34m=\u001b[0m \u001b[0mnp\u001b[0m\u001b[0;34m.\u001b[0m\u001b[0mr_\u001b[0m\u001b[0;34m[\u001b[0m\u001b[0mdistinct_value_indices\u001b[0m\u001b[0;34m,\u001b[0m \u001b[0my_true\u001b[0m\u001b[0;34m.\u001b[0m\u001b[0msize\u001b[0m \u001b[0;34m-\u001b[0m \u001b[0;36m1\u001b[0m\u001b[0;34m]\u001b[0m\u001b[0;34m\u001b[0m\u001b[0;34m\u001b[0m\u001b[0m\n\u001b[1;32m    721\u001b[0m \u001b[0;34m\u001b[0m\u001b[0m\n",
      "\u001b[0;32m<__array_function__ internals>\u001b[0m in \u001b[0;36mdiff\u001b[0;34m(*args, **kwargs)\u001b[0m\n",
      "\u001b[0;32m~/opt/anaconda3/lib/python3.9/site-packages/numpy/lib/function_base.py\u001b[0m in \u001b[0;36mdiff\u001b[0;34m(a, n, axis, prepend, append)\u001b[0m\n\u001b[1;32m   1279\u001b[0m     \u001b[0mop\u001b[0m \u001b[0;34m=\u001b[0m \u001b[0mnot_equal\u001b[0m \u001b[0;32mif\u001b[0m \u001b[0ma\u001b[0m\u001b[0;34m.\u001b[0m\u001b[0mdtype\u001b[0m \u001b[0;34m==\u001b[0m \u001b[0mnp\u001b[0m\u001b[0;34m.\u001b[0m\u001b[0mbool_\u001b[0m \u001b[0;32melse\u001b[0m \u001b[0msubtract\u001b[0m\u001b[0;34m\u001b[0m\u001b[0;34m\u001b[0m\u001b[0m\n\u001b[1;32m   1280\u001b[0m     \u001b[0;32mfor\u001b[0m \u001b[0m_\u001b[0m \u001b[0;32min\u001b[0m \u001b[0mrange\u001b[0m\u001b[0;34m(\u001b[0m\u001b[0mn\u001b[0m\u001b[0;34m)\u001b[0m\u001b[0;34m:\u001b[0m\u001b[0;34m\u001b[0m\u001b[0;34m\u001b[0m\u001b[0m\n\u001b[0;32m-> 1281\u001b[0;31m         \u001b[0ma\u001b[0m \u001b[0;34m=\u001b[0m \u001b[0mop\u001b[0m\u001b[0;34m(\u001b[0m\u001b[0ma\u001b[0m\u001b[0;34m[\u001b[0m\u001b[0mslice1\u001b[0m\u001b[0;34m]\u001b[0m\u001b[0;34m,\u001b[0m \u001b[0ma\u001b[0m\u001b[0;34m[\u001b[0m\u001b[0mslice2\u001b[0m\u001b[0;34m]\u001b[0m\u001b[0;34m)\u001b[0m\u001b[0;34m\u001b[0m\u001b[0;34m\u001b[0m\u001b[0m\n\u001b[0m\u001b[1;32m   1282\u001b[0m \u001b[0;34m\u001b[0m\u001b[0m\n\u001b[1;32m   1283\u001b[0m     \u001b[0;32mreturn\u001b[0m \u001b[0ma\u001b[0m\u001b[0;34m\u001b[0m\u001b[0;34m\u001b[0m\u001b[0m\n",
      "\u001b[0;31mUFuncTypeError\u001b[0m: ufunc 'subtract' did not contain a loop with signature matching types (dtype('<U17'), dtype('<U17')) -> dtype('<U17')"
     ]
    }
   ],
   "source": [
    "from sklearn.metrics import roc_curve, auc\n",
    "# compute ROC curve and AUC for specificity and sensitivity \n",
    "fpr, tpr, _ = roc_curve(y_valid, y_valid_pred, pos_label=1)\n",
    "roc_auc = auc(fpr, tpr)\n",
    "\n",
    "plt.figure(figsize=[5, 5])\n",
    "plt.plot(fpr, tpr, color='darkorange',\n",
    "         lw=2, label='ROC curve (area = %0.4f)' % roc_auc)\n",
    "plt.plot([0, 1], [0, 1], color='navy', lw=2, linestyle='--')\n",
    "plt.xlim([0.0, 1.0])\n",
    "plt.ylim([0.0, 1.05])\n",
    "plt.xlabel('False Positive Rate (1 - Specificity)')\n",
    "plt.ylabel('True Positive Rate (Sensitivity)')\n",
    "plt.legend(loc=\"lower right\")"
   ]
  },
  {
   "cell_type": "code",
   "execution_count": null,
   "id": "c7f15405",
   "metadata": {},
   "outputs": [
    {
     "data": {
      "text/html": [
       "<div>\n",
       "<style scoped>\n",
       "    .dataframe tbody tr th:only-of-type {\n",
       "        vertical-align: middle;\n",
       "    }\n",
       "\n",
       "    .dataframe tbody tr th {\n",
       "        vertical-align: top;\n",
       "    }\n",
       "\n",
       "    .dataframe thead th {\n",
       "        text-align: right;\n",
       "    }\n",
       "</style>\n",
       "<table border=\"1\" class=\"dataframe\">\n",
       "  <thead>\n",
       "    <tr style=\"text-align: right;\">\n",
       "      <th></th>\n",
       "      <th>actual</th>\n",
       "      <th>predicted</th>\n",
       "      <th>0</th>\n",
       "      <th>1</th>\n",
       "      <th>2</th>\n",
       "    </tr>\n",
       "  </thead>\n",
       "  <tbody>\n",
       "    <tr>\n",
       "      <th>46</th>\n",
       "      <td>Moderately severe</td>\n",
       "      <td>Moderately severe</td>\n",
       "      <td>0.03757</td>\n",
       "      <td>0.96243</td>\n",
       "      <td>1.080246e-32</td>\n",
       "    </tr>\n",
       "  </tbody>\n",
       "</table>\n",
       "</div>"
      ],
      "text/plain": [
       "               actual          predicted        0        1             2\n",
       "46  Moderately severe  Moderately severe  0.03757  0.96243  1.080246e-32"
      ]
     },
     "execution_count": 1298,
     "metadata": {},
     "output_type": "execute_result"
    }
   ],
   "source": [
    "# probability of a u(ser having ‘moderately severe’ depression when their average total steps per day is below 10000?\n",
    "# 0.03757 (as shown below)\n",
    "df = pd.concat([pd.DataFrame({'actual': y_valid, 'predicted': y_valid_pred}),\n",
    "                pd.DataFrame(predProb_valid, index=y_valid.index)], axis=1)\n",
    "mask = ((X_valid.step >= 1000)& (y_valid == \"Moderately severe\")) \n",
    "\n",
    "df[mask]"
   ]
  },
  {
   "cell_type": "code",
   "execution_count": null,
   "id": "2fb5d55b",
   "metadata": {},
   "outputs": [
    {
     "data": {
      "text/plain": [
       "<AxesSubplot:xlabel='# records', ylabel='# cumulative gains'>"
      ]
     },
     "execution_count": 1345,
     "metadata": {},
     "output_type": "execute_result"
    },
    {
     "data": {
      "image/png": "[encoded data removed]",
      "text/plain": [
       "<Figure size 288x288 with 1 Axes>"
      ]
     },
     "metadata": {
      "needs_background": "light"
     },
     "output_type": "display_data"
    }
   ],
   "source": [
    "df = pd.DataFrame({'actual': 1 - y_valid.cat.codes, 'prob': predProb_valid[:, 0]})\n",
    "df = df.sort_values(by=['prob'], ascending=False).reset_index(drop=True)\n",
    "\n",
    "fig, ax = plt.subplots()\n",
    "fig.set_size_inches(4, 4)\n",
    "gainsChart(df.actual, ax=ax)"
   ]
  }
 ],
 "metadata": {
  "interpreter": {
   "hash": "c4325e6f111fb92d17bafe6377b54053bf1a0e3143e737950e13c4d79ca53f41"
  },
  "kernelspec": {
   "display_name": "Python 3 (ipykernel)",
   "language": "python",
   "name": "python3"
  },
  "language_info": {
   "codemirror_mode": {
    "name": "ipython",
    "version": 3
   },
   "file_extension": ".py",
   "mimetype": "text/x-python",
   "name": "python",
   "nbconvert_exporter": "python",
   "pygments_lexer": "ipython3",
   "version": "3.9.7"
  }
 },
 "nbformat": 4,
 "nbformat_minor": 5
}

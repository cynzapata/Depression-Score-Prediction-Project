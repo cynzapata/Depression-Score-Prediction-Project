{
 "cells": [
  {
   "cell_type": "markdown",
   "id": "524b3a3d",
   "metadata": {},
   "source": [
    "# Goal of Project: predict user's depression score and identify each user’s life patterns"
   ]
  },
  {
   "cell_type": "code",
   "execution_count": 8,
   "id": "5febb6a2",
   "metadata": {},
   "outputs": [],
   "source": [
    "# List of required packages\n",
    "import pandas as pd\n",
    "import numpy as np\n",
    "import seaborn as sns\n",
    "import glob\n",
    "import os \n",
    "import matplotlib.pyplot as plt"
   ]
  },
  {
   "cell_type": "code",
   "execution_count": 9,
   "id": "22140790",
   "metadata": {},
   "outputs": [],
   "source": [
    "# Load data\n",
    "device_df = pd.read_csv('device_uplink.csv')\n",
    "user_information_df = pd.read_csv('user_information.csv')"
   ]
  },
  {
   "cell_type": "code",
   "execution_count": 10,
   "id": "6b7d7279",
   "metadata": {},
   "outputs": [
    {
     "name": "stdout",
     "output_type": "stream",
     "text": [
      "        Unnamed: 0  uplink_id  owner_id          client_time  tag_id   step  \\\n",
      "169761      169761    1923034       512  2020-11-06 10:10:16     0.0    482   \n",
      "248955      248955    2661815       544  2020-12-27 13:50:05     0.0    816   \n",
      "226578      226578    2425650       585  2020-12-09 09:11:24     2.0   2913   \n",
      "43893        43893     889728       507  2020-08-31 18:50:05     0.0   3832   \n",
      "294823      294823    3379043       650  2021-02-14 18:30:11     0.0   2984   \n",
      "91512        91512    1333923       505  2020-10-01 13:50:06     0.0   5922   \n",
      "293153      293153    3317930       547  2021-02-12 11:01:30    10.0   2841   \n",
      "211562      211562    2295777       536  2020-11-29 16:10:29     0.0   2600   \n",
      "46720        46720     927575       524  2020-09-03 15:30:11     0.0   3827   \n",
      "33260        33260     763926       504  2020-08-22 18:30:05     0.0  12987   \n",
      "\n",
      "        battery_low  is_charge  tag_battery_low  \n",
      "169761           71          0                0  \n",
      "248955           90          0                0  \n",
      "226578           24          0                0  \n",
      "43893            64          0                0  \n",
      "294823           69          0                0  \n",
      "91512            88          0                0  \n",
      "293153           95          0                0  \n",
      "211562           37          0                0  \n",
      "46720            75          0                0  \n",
      "33260            31          0                0  \n"
     ]
    }
   ],
   "source": [
    "# Sample data\n",
    "data = device_df.sample(10)\n",
    "print(data)"
   ]
  },
  {
   "cell_type": "code",
   "execution_count": null,
   "id": "b1edffa2",
   "metadata": {},
   "outputs": [],
   "source": []
  }
 ],
 "metadata": {
  "kernelspec": {
   "display_name": "Python 3 (ipykernel)",
   "language": "python",
   "name": "python3"
  },
  "language_info": {
   "codemirror_mode": {
    "name": "ipython",
    "version": 3
   },
   "file_extension": ".py",
   "mimetype": "text/x-python",
   "name": "python",
   "nbconvert_exporter": "python",
   "pygments_lexer": "ipython3",
   "version": "3.9.7"
  }
 },
 "nbformat": 4,
 "nbformat_minor": 5
}

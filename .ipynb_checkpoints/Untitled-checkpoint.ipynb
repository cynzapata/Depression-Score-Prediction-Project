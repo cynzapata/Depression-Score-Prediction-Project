{
 "cells": [
  {
   "cell_type": "markdown",
   "id": "b50707bc",
   "metadata": {},
   "source": [
    "# Goal of Project: predict user's depression score and identify each user’s life patterns"
   ]
  },
  {
   "cell_type": "code",
   "execution_count": null,
   "id": "c5be7231",
   "metadata": {},
   "outputs": [],
   "source": [
    "# List of required packages\n",
    "import pandas as pd\n",
    "import numpy as np\n",
    "import seaborn as sns\n",
    "import glob\n",
    "import os \n",
    "import matplotlib.pyplot as plt"
   ]
  },
  {
   "cell_type": "code",
   "execution_count": null,
   "id": "94ca4133",
   "metadata": {},
   "outputs": [],
   "source": [
    "# Load data\n",
    "device_df = pd.read_csv('device_uplink.csv')\n",
    "user_information_df = pd.read_csv('user_information.csv')"
   ]
  },
  {
   "cell_type": "code",
   "execution_count": null,
   "id": "fdae8953",
   "metadata": {},
   "outputs": [],
   "source": [
    "# Sample data\n",
    "data = device_df.sample(10)\n",
    "print(data)"
   ]
  }
 ],
 "metadata": {
  "kernelspec": {
   "display_name": "Python 3 (ipykernel)",
   "language": "python",
   "name": "python3"
  },
  "language_info": {
   "codemirror_mode": {
    "name": "ipython",
    "version": 3
   },
   "file_extension": ".py",
   "mimetype": "text/x-python",
   "name": "python",
   "nbconvert_exporter": "python",
   "pygments_lexer": "ipython3",
   "version": "3.9.7"
  }
 },
 "nbformat": 4,
 "nbformat_minor": 5
}

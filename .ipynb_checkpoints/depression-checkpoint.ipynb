{
 "cells": [
  {
   "cell_type": "markdown",
   "id": "524b3a3d",
   "metadata": {},
   "source": [
    "# Goal of Project: predict user's depression score and identify each user’s life patterns"
   ]
  },
  {
   "cell_type": "code",
   "execution_count": 11,
   "id": "5febb6a2",
   "metadata": {},
   "outputs": [],
   "source": [
    "# List of required packages\n",
    "import pandas as pd\n",
    "import numpy as np\n",
    "import seaborn as sns\n",
    "import glob\n",
    "import os \n",
    "import matplotlib.pyplot as plt"
   ]
  },
  {
   "cell_type": "code",
   "execution_count": 12,
   "id": "22140790",
   "metadata": {},
   "outputs": [],
   "source": [
    "# Load data\n",
    "device_df = pd.read_csv('device_uplink.csv')\n",
    "user_information_df = pd.read_csv('user_information.csv')"
   ]
  },
  {
   "cell_type": "markdown",
   "id": "71d2039a",
   "metadata": {},
   "source": [
    "# Data Exploration:"
   ]
  },
  {
   "cell_type": "markdown",
   "id": "fcae0cb3",
   "metadata": {},
   "source": [
    "# 1: Data Sample "
   ]
  },
  {
   "cell_type": "code",
   "execution_count": 13,
   "id": "6b7d7279",
   "metadata": {
    "scrolled": true
   },
   "outputs": [
    {
     "name": "stdout",
     "output_type": "stream",
     "text": [
      "        Unnamed: 0  uplink_id  owner_id          client_time  tag_id  step  \\\n",
      "296502      296502    3434968       536  2021-02-16 19:20:38    10.0  8025   \n",
      "153361      153361    1783776       574  2020-10-28 22:40:04     0.0  3750   \n",
      "62286        62286    1080848       569  2020-09-15 14:05:25    19.0  2587   \n",
      "90417        90417    1325977       232  2020-10-01 08:02:18     7.0   493   \n",
      "310125      310125    3591041       230  2021-02-27 09:25:57    10.0  3655   \n",
      "22133        22133     624816       544  2020-08-13 17:03:33    12.0  5471   \n",
      "66566        66566    1121196       524  2020-09-18 18:47:20     2.0  4575   \n",
      "167263      167263    1904392       547  2020-11-05 08:00:05     0.0    68   \n",
      "51028        51028     968312       506  2020-09-06 16:50:08     0.0  6580   \n",
      "140740      140740    1691598       552  2020-10-22 16:50:14     0.0  7280   \n",
      "\n",
      "        battery_low  is_charge  tag_battery_low  \n",
      "296502           18          0                0  \n",
      "153361           68          0                0  \n",
      "62286            49          0                0  \n",
      "90417            82          0                0  \n",
      "310125           39          0                0  \n",
      "22133            49          0                0  \n",
      "66566            33          0                0  \n",
      "167263           98          0                0  \n",
      "51028            39          0                0  \n",
      "140740           88          0                0  \n"
     ]
    }
   ],
   "source": [
    "# Sample data\n",
    "data = device_df.sample(10)\n",
    "print(data)"
   ]
  },
  {
   "cell_type": "code",
   "execution_count": 14,
   "id": "a1ca0fb9",
   "metadata": {},
   "outputs": [
    {
     "name": "stdout",
     "output_type": "stream",
     "text": [
      "    user_id  birth year  age sex                                  etc  \\\n",
      "12      523        1942   80   F                       Not applicable   \n",
      "27      582        1948   74   F                      차상위, 혈압, 당뇨, 관절   \n",
      "7       572        1940   82   F                       Not applicable   \n",
      "6       496        1939   83   F            당뇨, 허리협착증, 저혈당, 갑자기 쓰러지기도   \n",
      "3       495        1937   85   F                       Not applicable   \n",
      "23      569        1947   75   F                       Not applicable   \n",
      "30      661        1949   73   F                                 고지혈증   \n",
      "25      508        1948   74   F                       Not applicable   \n",
      "15      586        1944   78   F  이석증, 거리에서 두번 정신잃고 쓰러져 구급차에 실려 간적 있음   \n",
      "50      668        1948   74   M                               당뇨, 혈압   \n",
      "\n",
      "    depression_score   depression_class  \n",
      "12             0.500           Moderate  \n",
      "27             0.375               Mild  \n",
      "7              0.500           Moderate  \n",
      "6              0.750  Moderately severe  \n",
      "3              0.250             Normal  \n",
      "23             0.375               Mild  \n",
      "30             0.625  Moderately severe  \n",
      "25             0.750  Moderately severe  \n",
      "15             0.250             Normal  \n",
      "50             0.125             Normal  \n"
     ]
    }
   ],
   "source": [
    "# Sample data\n",
    "user = user_information_df.sample(10)\n",
    "print(user)"
   ]
  },
  {
   "cell_type": "markdown",
   "id": "8a40b920",
   "metadata": {},
   "source": [
    "# 2: Display dimension and Columns"
   ]
  },
  {
   "cell_type": "code",
   "execution_count": 15,
   "id": "b1edffa2",
   "metadata": {},
   "outputs": [
    {
     "name": "stdout",
     "output_type": "stream",
     "text": [
      "the shape of the df is (324823, 9)\n",
      "the columns are Index(['Unnamed: 0', 'uplink_id', 'owner_id', 'client_time', 'tag_id', 'step',\n",
      "       'battery_low', 'is_charge', 'tag_battery_low'],\n",
      "      dtype='object')\n"
     ]
    }
   ],
   "source": [
    "#Assess dimension and display columns of device file\n",
    "deviceshape = device_df.shape \n",
    "devicecol = device_df.columns \n",
    "\n",
    "print(\"the shape of the df is\",deviceshape)\n",
    "print(\"the columns are\", devicecol)"
   ]
  },
  {
   "cell_type": "code",
   "execution_count": 16,
   "id": "f57fe1d5",
   "metadata": {},
   "outputs": [
    {
     "name": "stdout",
     "output_type": "stream",
     "text": [
      "the shape of the df is (53, 7)\n",
      "the columns are Index(['user_id', 'birth year', 'age', 'sex', 'etc', 'depression_score',\n",
      "       'depression_class'],\n",
      "      dtype='object')\n"
     ]
    }
   ],
   "source": [
    "#Assess dimension and display columns of user information file\n",
    "usershape = user_information_df.shape \n",
    "usercol = user_information_df.columns \n",
    "\n",
    "print(\"the shape of the df is\",usershape)\n",
    "print(\"the columns are\", usercol)"
   ]
  },
  {
   "cell_type": "markdown",
   "id": "8f572be7",
   "metadata": {},
   "source": [
    "# Check Data Types"
   ]
  },
  {
   "cell_type": "code",
   "execution_count": 17,
   "id": "f06faf68",
   "metadata": {},
   "outputs": [
    {
     "data": {
      "text/plain": [
       "Unnamed: 0           int64\n",
       "uplink_id            int64\n",
       "owner_id             int64\n",
       "client_time         object\n",
       "tag_id             float64\n",
       "step                 int64\n",
       "battery_low          int64\n",
       "is_charge            int64\n",
       "tag_battery_low      int64\n",
       "dtype: object"
      ]
     },
     "execution_count": 17,
     "metadata": {},
     "output_type": "execute_result"
    }
   ],
   "source": [
    "device_df.dtypes"
   ]
  },
  {
   "cell_type": "code",
   "execution_count": 18,
   "id": "d6f190a0",
   "metadata": {},
   "outputs": [
    {
     "ename": "NameError",
     "evalue": "name 'user_informtation_df' is not defined",
     "output_type": "error",
     "traceback": [
      "\u001b[0;31m---------------------------------------------------------------------------\u001b[0m",
      "\u001b[0;31mNameError\u001b[0m                                 Traceback (most recent call last)",
      "\u001b[0;32m/var/folders/db/g89vnvfj68l9dp9q6zz747zh0000gn/T/ipykernel_55852/1833895324.py\u001b[0m in \u001b[0;36m<module>\u001b[0;34m\u001b[0m\n\u001b[0;32m----> 1\u001b[0;31m \u001b[0muser_informtation_df\u001b[0m\u001b[0;34m.\u001b[0m\u001b[0mdtypes\u001b[0m\u001b[0;34m\u001b[0m\u001b[0;34m\u001b[0m\u001b[0m\n\u001b[0m",
      "\u001b[0;31mNameError\u001b[0m: name 'user_informtation_df' is not defined"
     ]
    }
   ],
   "source": [
    "user_information_df.dtypes"
   ]
  },
  {
   "cell_type": "code",
   "execution_count": null,
   "id": "64afaf81",
   "metadata": {},
   "outputs": [],
   "source": []
  }
 ],
 "metadata": {
  "kernelspec": {
   "display_name": "Python 3 (ipykernel)",
   "language": "python",
   "name": "python3"
  },
  "language_info": {
   "codemirror_mode": {
    "name": "ipython",
    "version": 3
   },
   "file_extension": ".py",
   "mimetype": "text/x-python",
   "name": "python",
   "nbconvert_exporter": "python",
   "pygments_lexer": "ipython3",
   "version": "3.9.7"
  }
 },
 "nbformat": 4,
 "nbformat_minor": 5
}

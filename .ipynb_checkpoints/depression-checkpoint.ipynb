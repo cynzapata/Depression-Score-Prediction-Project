{
 "cells": [
  {
   "cell_type": "markdown",
   "id": "524b3a3d",
   "metadata": {},
   "source": [
    "# Goal of Project: predict user's depression score and identify each user’s life patterns"
   ]
  },
  {
   "cell_type": "code",
   "execution_count": 1,
   "id": "5febb6a2",
   "metadata": {},
   "outputs": [],
   "source": [
    "# List of required packages\n",
    "import pandas as pd\n",
    "import numpy as np\n",
    "import seaborn as sns\n",
    "import glob\n",
    "import os \n",
    "import matplotlib.pyplot as plt"
   ]
  },
  {
   "cell_type": "code",
   "execution_count": 2,
   "id": "22140790",
   "metadata": {},
   "outputs": [],
   "source": [
    "# Load data\n",
    "device_df = pd.read_csv('device_uplink.csv')\n",
    "user_information_df = pd.read_csv('user_information.csv')"
   ]
  },
  {
   "cell_type": "code",
   "execution_count": 3,
   "id": "6b7d7279",
   "metadata": {},
   "outputs": [
    {
     "name": "stdout",
     "output_type": "stream",
     "text": [
      "        Unnamed: 0  uplink_id  owner_id          client_time  tag_id  step  \\\n",
      "262360      262360    2829113       635  2021-01-09 06:10:14     0.0   448   \n",
      "274027      274027    2972746       635  2021-01-21 07:30:06     0.0   816   \n",
      "31284        31284     741189       516  2020-08-21 07:46:28     1.0   235   \n",
      "9294          9294     335925       232  2020-05-18 19:02:57     2.0    77   \n",
      "54885        54885    1005500       536  2020-09-09 16:15:50    10.0  3527   \n",
      "147339      147339    1742734       524  2020-10-26 09:20:12     0.0   271   \n",
      "323902      323902    3766455       230  2021-03-11 09:27:35    10.0  3061   \n",
      "30838        30838     734663       512  2020-08-20 17:50:54    10.0  2058   \n",
      "83116        83116    1266457       519  2020-09-28 12:40:40     0.0  2326   \n",
      "110040      110040    1477664       674  2020-10-09 15:37:32    10.0  1228   \n",
      "\n",
      "        battery_low  is_charge  tag_battery_low  \n",
      "262360           83          0                0  \n",
      "274027           74          0                0  \n",
      "31284             9          0                0  \n",
      "9294             31          0                0  \n",
      "54885            53          0                0  \n",
      "147339           63          0                0  \n",
      "323902           46          0                0  \n",
      "30838            37          0                0  \n",
      "83116            29          0                0  \n",
      "110040           50          0                0  \n"
     ]
    }
   ],
   "source": [
    "# Sample data\n",
    "data = device_df.sample(10)\n",
    "print(data)"
   ]
  },
  {
   "cell_type": "code",
   "execution_count": 4,
   "id": "b1edffa2",
   "metadata": {},
   "outputs": [
    {
     "ename": "NameError",
     "evalue": "name 'heart_df' is not defined",
     "output_type": "error",
     "traceback": [
      "\u001b[0;31m---------------------------------------------------------------------------\u001b[0m",
      "\u001b[0;31mNameError\u001b[0m                                 Traceback (most recent call last)",
      "\u001b[0;32m/var/folders/db/g89vnvfj68l9dp9q6zz747zh0000gn/T/ipykernel_55852/3154179867.py\u001b[0m in \u001b[0;36m<module>\u001b[0;34m\u001b[0m\n\u001b[0;32m----> 1\u001b[0;31m \u001b[0mdeviceshape\u001b[0m \u001b[0;34m=\u001b[0m \u001b[0mheart_df\u001b[0m\u001b[0;34m.\u001b[0m\u001b[0mshape\u001b[0m \u001b[0;31m#assess dimension of heart_df\u001b[0m\u001b[0;34m\u001b[0m\u001b[0;34m\u001b[0m\u001b[0m\n\u001b[0m\u001b[1;32m      2\u001b[0m \u001b[0mdevicecol\u001b[0m \u001b[0;34m=\u001b[0m \u001b[0mheart_df\u001b[0m\u001b[0;34m.\u001b[0m\u001b[0mcolumns\u001b[0m \u001b[0;31m#displays df columns\u001b[0m\u001b[0;34m\u001b[0m\u001b[0;34m\u001b[0m\u001b[0m\n\u001b[1;32m      3\u001b[0m \u001b[0;34m\u001b[0m\u001b[0m\n\u001b[1;32m      4\u001b[0m \u001b[0mprint\u001b[0m\u001b[0;34m(\u001b[0m\u001b[0;34m\"the shape of the df is\"\u001b[0m\u001b[0;34m,\u001b[0m\u001b[0mdeviceshape\u001b[0m\u001b[0;34m)\u001b[0m\u001b[0;34m\u001b[0m\u001b[0;34m\u001b[0m\u001b[0m\n\u001b[1;32m      5\u001b[0m \u001b[0mprint\u001b[0m\u001b[0;34m(\u001b[0m\u001b[0;34m\"the columns are\"\u001b[0m\u001b[0;34m,\u001b[0m \u001b[0mdevicecol\u001b[0m\u001b[0;34m)\u001b[0m\u001b[0;34m\u001b[0m\u001b[0;34m\u001b[0m\u001b[0m\n",
      "\u001b[0;31mNameError\u001b[0m: name 'heart_df' is not defined"
     ]
    }
   ],
   "source": [
    "#Assess dimension and display columns of d\n",
    "deviceshape = device_df.shape #assess dimension of heart_df\n",
    "devicecol = device_df.columns #displays df columns \n",
    "\n",
    "print(\"the shape of the df is\",deviceshape)\n",
    "print(\"the columns are\", devicecol)"
   ]
  },
  {
   "cell_type": "code",
   "execution_count": null,
   "id": "946a373b",
   "metadata": {},
   "outputs": [],
   "source": []
  }
 ],
 "metadata": {
  "kernelspec": {
   "display_name": "Python 3 (ipykernel)",
   "language": "python",
   "name": "python3"
  },
  "language_info": {
   "codemirror_mode": {
    "name": "ipython",
    "version": 3
   },
   "file_extension": ".py",
   "mimetype": "text/x-python",
   "name": "python",
   "nbconvert_exporter": "python",
   "pygments_lexer": "ipython3",
   "version": "3.9.7"
  }
 },
 "nbformat": 4,
 "nbformat_minor": 5
}

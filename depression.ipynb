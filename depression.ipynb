{
 "cells": [
  {
   "cell_type": "markdown",
   "id": "524b3a3d",
   "metadata": {},
   "source": [
    "# Goal of Project: predict user's depression score and identify each user’s life patterns"
   ]
  },
  {
   "cell_type": "code",
   "execution_count": 11,
   "id": "5febb6a2",
   "metadata": {},
   "outputs": [],
   "source": [
    "# List of required packages\n",
    "import pandas as pd\n",
    "import numpy as np\n",
    "import seaborn as sns\n",
    "import glob\n",
    "import os \n",
    "import matplotlib.pyplot as plt"
   ]
  },
  {
   "cell_type": "code",
   "execution_count": 12,
   "id": "22140790",
   "metadata": {},
   "outputs": [],
   "source": [
    "# Load data\n",
    "device_df = pd.read_csv('device_uplink.csv')\n",
    "user_information_df = pd.read_csv('user_information.csv')"
   ]
  },
  {
   "cell_type": "markdown",
   "id": "1421fd46",
   "metadata": {},
   "source": [
    "# Data Exploration:"
   ]
  },
  {
   "cell_type": "markdown",
   "id": "0868136b",
   "metadata": {},
   "source": [
    "# 1: Data Sample "
   ]
  },
  {
   "cell_type": "code",
   "execution_count": 13,
   "id": "6b7d7279",
   "metadata": {
    "scrolled": true
   },
   "outputs": [
    {
     "name": "stdout",
     "output_type": "stream",
     "text": [
      "        Unnamed: 0  uplink_id  owner_id          client_time  tag_id  step  \\\n",
      "296502      296502    3434968       536  2021-02-16 19:20:38    10.0  8025   \n",
      "153361      153361    1783776       574  2020-10-28 22:40:04     0.0  3750   \n",
      "62286        62286    1080848       569  2020-09-15 14:05:25    19.0  2587   \n",
      "90417        90417    1325977       232  2020-10-01 08:02:18     7.0   493   \n",
      "310125      310125    3591041       230  2021-02-27 09:25:57    10.0  3655   \n",
      "22133        22133     624816       544  2020-08-13 17:03:33    12.0  5471   \n",
      "66566        66566    1121196       524  2020-09-18 18:47:20     2.0  4575   \n",
      "167263      167263    1904392       547  2020-11-05 08:00:05     0.0    68   \n",
      "51028        51028     968312       506  2020-09-06 16:50:08     0.0  6580   \n",
      "140740      140740    1691598       552  2020-10-22 16:50:14     0.0  7280   \n",
      "\n",
      "        battery_low  is_charge  tag_battery_low  \n",
      "296502           18          0                0  \n",
      "153361           68          0                0  \n",
      "62286            49          0                0  \n",
      "90417            82          0                0  \n",
      "310125           39          0                0  \n",
      "22133            49          0                0  \n",
      "66566            33          0                0  \n",
      "167263           98          0                0  \n",
      "51028            39          0                0  \n",
      "140740           88          0                0  \n"
     ]
    }
   ],
   "source": [
    "# Sample data\n",
    "data = device_df.sample(10)\n",
    "print(data)"
   ]
  },
  {
   "cell_type": "code",
   "execution_count": 14,
   "id": "79ff0bd9",
   "metadata": {},
   "outputs": [
    {
     "name": "stdout",
     "output_type": "stream",
     "text": [
      "    user_id  birth year  age sex                                  etc  \\\n",
      "12      523        1942   80   F                       Not applicable   \n",
      "27      582        1948   74   F                      차상위, 혈압, 당뇨, 관절   \n",
      "7       572        1940   82   F                       Not applicable   \n",
      "6       496        1939   83   F            당뇨, 허리협착증, 저혈당, 갑자기 쓰러지기도   \n",
      "3       495        1937   85   F                       Not applicable   \n",
      "23      569        1947   75   F                       Not applicable   \n",
      "30      661        1949   73   F                                 고지혈증   \n",
      "25      508        1948   74   F                       Not applicable   \n",
      "15      586        1944   78   F  이석증, 거리에서 두번 정신잃고 쓰러져 구급차에 실려 간적 있음   \n",
      "50      668        1948   74   M                               당뇨, 혈압   \n",
      "\n",
      "    depression_score   depression_class  \n",
      "12             0.500           Moderate  \n",
      "27             0.375               Mild  \n",
      "7              0.500           Moderate  \n",
      "6              0.750  Moderately severe  \n",
      "3              0.250             Normal  \n",
      "23             0.375               Mild  \n",
      "30             0.625  Moderately severe  \n",
      "25             0.750  Moderately severe  \n",
      "15             0.250             Normal  \n",
      "50             0.125             Normal  \n"
     ]
    }
   ],
   "source": [
    "# Sample data\n",
    "user = user_information_df.sample(10)\n",
    "print(user)"
   ]
  },
  {
   "cell_type": "markdown",
   "id": "3069d31b",
   "metadata": {},
   "source": [
    "# 2: Display dimension and Columns"
   ]
  },
  {
   "cell_type": "code",
   "execution_count": 15,
   "id": "b1edffa2",
   "metadata": {},
   "outputs": [
    {
     "name": "stdout",
     "output_type": "stream",
     "text": [
      "the shape of the df is (324823, 9)\n",
      "the columns are Index(['Unnamed: 0', 'uplink_id', 'owner_id', 'client_time', 'tag_id', 'step',\n",
      "       'battery_low', 'is_charge', 'tag_battery_low'],\n",
      "      dtype='object')\n"
     ]
    }
   ],
   "source": [
    "#Assess dimension and display columns of device file\n",
    "deviceshape = device_df.shape \n",
    "devicecol = device_df.columns \n",
    "\n",
    "print(\"the shape of the df is\",deviceshape)\n",
    "print(\"the columns are\", devicecol)"
   ]
  },
  {
   "cell_type": "code",
   "execution_count": 16,
   "id": "91166582",
   "metadata": {},
   "outputs": [
    {
     "name": "stdout",
     "output_type": "stream",
     "text": [
      "the shape of the df is (53, 7)\n",
      "the columns are Index(['user_id', 'birth year', 'age', 'sex', 'etc', 'depression_score',\n",
      "       'depression_class'],\n",
      "      dtype='object')\n"
     ]
    }
   ],
   "source": [
    "#Assess dimension and display columns of user information file\n",
    "usershape = user_information_df.shape \n",
    "usercol = user_information_df.columns \n",
    "\n",
    "print(\"the shape of the df is\",usershape)\n",
    "print(\"the columns are\", usercol)"
   ]
  },
  {
   "cell_type": "markdown",
   "id": "cfb14168",
   "metadata": {},
   "source": [
    "# 3: Check and Convert Data Types"
   ]
  },
  {
   "cell_type": "code",
   "execution_count": 17,
   "id": "32362b4b",
   "metadata": {},
   "outputs": [
    {
     "data": {
      "text/plain": [
       "Unnamed: 0           int64\n",
       "uplink_id            int64\n",
       "owner_id             int64\n",
       "client_time         object\n",
       "tag_id             float64\n",
       "step                 int64\n",
       "battery_low          int64\n",
       "is_charge            int64\n",
       "tag_battery_low      int64\n",
       "dtype: object"
      ]
     },
     "execution_count": 17,
     "metadata": {},
     "output_type": "execute_result"
    }
   ],
   "source": [
    "device_df.dtypes"
   ]
  },
  {
   "cell_type": "code",
   "execution_count": 19,
   "id": "e3a73432",
   "metadata": {},
   "outputs": [
    {
     "data": {
      "text/plain": [
       "user_id               int64\n",
       "birth year            int64\n",
       "age                   int64\n",
       "sex                  object\n",
       "etc                  object\n",
       "depression_score    float64\n",
       "depression_class     object\n",
       "dtype: object"
      ]
     },
     "execution_count": 19,
     "metadata": {},
     "output_type": "execute_result"
    }
   ],
   "source": [
    "user_information_df.dtypes"
   ]
  },
  {
   "cell_type": "code",
   "execution_count": 20,
   "id": "5f957421",
   "metadata": {},
   "outputs": [],
   "source": [
    "device_df['client_time'] = pd.to_datetime(device_df['client_time'])"
   ]
  },
  {
   "cell_type": "code",
   "execution_count": 21,
   "id": "19d7fac0",
   "metadata": {},
   "outputs": [
    {
     "data": {
      "text/plain": [
       "Unnamed: 0                  int64\n",
       "uplink_id                   int64\n",
       "owner_id                    int64\n",
       "client_time        datetime64[ns]\n",
       "tag_id                    float64\n",
       "step                        int64\n",
       "battery_low                 int64\n",
       "is_charge                   int64\n",
       "tag_battery_low             int64\n",
       "dtype: object"
      ]
     },
     "execution_count": 21,
     "metadata": {},
     "output_type": "execute_result"
    }
   ],
   "source": [
    "device_df.dtypes"
   ]
  },
  {
   "cell_type": "markdown",
   "id": "3d48e861",
   "metadata": {},
   "source": [
    "# 4: Find and Replace Missing Values"
   ]
  },
  {
   "cell_type": "code",
   "execution_count": 22,
   "id": "5780afdf",
   "metadata": {},
   "outputs": [
    {
     "data": {
      "text/plain": [
       "Unnamed: 0            0\n",
       "uplink_id             0\n",
       "owner_id              0\n",
       "client_time           0\n",
       "tag_id             1206\n",
       "step                  0\n",
       "battery_low           0\n",
       "is_charge             0\n",
       "tag_battery_low       0\n",
       "dtype: int64"
      ]
     },
     "execution_count": 22,
     "metadata": {},
     "output_type": "execute_result"
    }
   ],
   "source": [
    "device_df.isnull().sum()"
   ]
  },
  {
   "cell_type": "code",
   "execution_count": 23,
   "id": "199d59f6",
   "metadata": {},
   "outputs": [
    {
     "data": {
      "text/plain": [
       "user_id             0\n",
       "birth year          0\n",
       "age                 0\n",
       "sex                 0\n",
       "etc                 0\n",
       "depression_score    0\n",
       "depression_class    0\n",
       "dtype: int64"
      ]
     },
     "execution_count": 23,
     "metadata": {},
     "output_type": "execute_result"
    }
   ],
   "source": [
    "user_information_df.isnull().sum()"
   ]
  },
  {
   "cell_type": "markdown",
   "id": "d13842af",
   "metadata": {},
   "source": [
    "# 5: Reduce Dimension"
   ]
  },
  {
   "cell_type": "markdown",
   "id": "bc1e4e4a",
   "metadata": {},
   "source": [
    "# 6: Visualize Data"
   ]
  },
  {
   "cell_type": "code",
   "execution_count": null,
   "id": "a7daa5c9",
   "metadata": {},
   "outputs": [],
   "source": []
  },
  {
   "cell_type": "markdown",
   "id": "e71d6243",
   "metadata": {},
   "source": [
    "# 7: Notes on Data"
   ]
  },
  {
   "cell_type": "markdown",
   "id": "58d5c71c",
   "metadata": {},
   "source": [
    "# 8: Fit a multiple linear regression model to the depression score"
   ]
  },
  {
   "cell_type": "markdown",
   "id": "9fb9036f",
   "metadata": {},
   "source": [
    "# 9: Using the estimated regression model, what depression score is predicted for user 495 and 496? What is the prediction error?"
   ]
  },
  {
   "cell_type": "markdown",
   "id": "d58fa624",
   "metadata": {},
   "source": [
    "# 10: Use stepwise regression with the three options (backward, forward, both) to reduce the remaining predictors as follows: Run stepwise on the training set."
   ]
  },
  {
   "cell_type": "markdown",
   "id": "d8e00625",
   "metadata": {},
   "source": [
    "# 11: Run a naïve Bayes classifier on the training set with the relevant predictors"
   ]
  },
  {
   "cell_type": "markdown",
   "id": "f4ba5acc",
   "metadata": {},
   "source": [
    "# 12: Compute the overall error, specificity, sensitivity, false-positive error, and false-negative error for the validation set."
   ]
  },
  {
   "cell_type": "markdown",
   "id": "042e2192",
   "metadata": {},
   "source": [
    "# 13: Examine the conditional probabilities of the output. What is the probability of a user having ‘moderately severe’ depression when their average total steps per day is below 10000? 𝑃(𝐷𝐶 = \"𝑀𝑜𝑑𝑒𝑟𝑎𝑡𝑒𝑙𝑦 𝑠𝑒𝑣𝑒𝑟𝑒”| (𝑎𝑣𝑒𝑟𝑎𝑔𝑒 𝑡𝑜𝑡𝑎𝑙 𝑠𝑡𝑒𝑝𝑠 𝑝𝑒𝑟 𝑑𝑎𝑦) ≤ 10000)?"
   ]
  },
  {
   "cell_type": "markdown",
   "id": "d603a8ab",
   "metadata": {},
   "source": [
    "# 14: Classification modeling with k-nearest neighbors classifier for daily activities."
   ]
  }
 ],
 "metadata": {
  "kernelspec": {
   "display_name": "Python 3 (ipykernel)",
   "language": "python",
   "name": "python3"
  },
  "language_info": {
   "codemirror_mode": {
    "name": "ipython",
    "version": 3
   },
   "file_extension": ".py",
   "mimetype": "text/x-python",
   "name": "python",
   "nbconvert_exporter": "python",
   "pygments_lexer": "ipython3",
   "version": "3.9.7"
  }
 },
 "nbformat": 4,
 "nbformat_minor": 5
}
